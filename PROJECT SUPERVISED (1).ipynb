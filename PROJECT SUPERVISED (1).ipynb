{
 "cells": [
  {
   "cell_type": "markdown",
   "id": "bbc41791",
   "metadata": {},
   "source": [
    "# Goal 1] Logistic Regression"
   ]
  },
  {
   "cell_type": "markdown",
   "id": "00fe53fe",
   "metadata": {},
   "source": [
    "# 1 )   Create Model\n"
   ]
  },
  {
   "cell_type": "code",
   "execution_count": 380,
   "id": "9b5cca4e",
   "metadata": {},
   "outputs": [],
   "source": [
    "import numpy as np\n",
    "import pandas as pd\n",
    "import matplotlib.pyplot as plt\n",
    "import seaborn as sns\n",
    "\n",
    "from sklearn.model_selection import train_test_split\n",
    "from sklearn.linear_model import LogisticRegression\n",
    "\n",
    "from sklearn.ensemble import BaggingClassifier\n",
    "from sklearn.ensemble import AdaBoostClassifier\n",
    "\n",
    "from sklearn import metrics\n",
    "\n",
    "from sklearn import model_selection\n",
    "from sklearn.metrics import accuracy_score"
   ]
  },
  {
   "cell_type": "code",
   "execution_count": 381,
   "id": "e29b5af5",
   "metadata": {},
   "outputs": [],
   "source": [
    "import warnings\n",
    "warnings.filterwarnings('ignore')"
   ]
  },
  {
   "cell_type": "code",
   "execution_count": 382,
   "id": "845ae661",
   "metadata": {},
   "outputs": [],
   "source": [
    "df = pd.read_csv('PROJECT SUPERVISED.csv')"
   ]
  },
  {
   "cell_type": "code",
   "execution_count": 383,
   "id": "097b3551",
   "metadata": {},
   "outputs": [
    {
     "data": {
      "text/html": [
       "<div>\n",
       "<style scoped>\n",
       "    .dataframe tbody tr th:only-of-type {\n",
       "        vertical-align: middle;\n",
       "    }\n",
       "\n",
       "    .dataframe tbody tr th {\n",
       "        vertical-align: top;\n",
       "    }\n",
       "\n",
       "    .dataframe thead th {\n",
       "        text-align: right;\n",
       "    }\n",
       "</style>\n",
       "<table border=\"1\" class=\"dataframe\">\n",
       "  <thead>\n",
       "    <tr style=\"text-align: right;\">\n",
       "      <th></th>\n",
       "      <th>Age</th>\n",
       "      <th>Attrition</th>\n",
       "      <th>DailyRate</th>\n",
       "      <th>DistanceFromHome</th>\n",
       "      <th>Education</th>\n",
       "      <th>EnvironmentSatisfaction</th>\n",
       "      <th>HourlyRate</th>\n",
       "      <th>JobInvolvement</th>\n",
       "      <th>JobLevel</th>\n",
       "      <th>JobSatisfaction</th>\n",
       "      <th>...</th>\n",
       "      <th>JobRole_Sales Executive</th>\n",
       "      <th>JobRole_Research Scientist</th>\n",
       "      <th>JobRole_Laboratory Technician</th>\n",
       "      <th>JobRole_Manufacturing Director</th>\n",
       "      <th>JobRole_Healthcare Representative</th>\n",
       "      <th>JobRole_Manager</th>\n",
       "      <th>JobRole_Sales Representative</th>\n",
       "      <th>JobRole_Research Director</th>\n",
       "      <th>MaritalStatus_Married</th>\n",
       "      <th>MaritalStatus_Single</th>\n",
       "    </tr>\n",
       "  </thead>\n",
       "  <tbody>\n",
       "    <tr>\n",
       "      <th>0</th>\n",
       "      <td>0.446350</td>\n",
       "      <td>1</td>\n",
       "      <td>0.742527</td>\n",
       "      <td>-1.505350</td>\n",
       "      <td>-0.891688</td>\n",
       "      <td>-0.660531</td>\n",
       "      <td>1.383138</td>\n",
       "      <td>0.379672</td>\n",
       "      <td>0.112298</td>\n",
       "      <td>1.153254</td>\n",
       "      <td>...</td>\n",
       "      <td>1.873287</td>\n",
       "      <td>-0.497873</td>\n",
       "      <td>-0.462464</td>\n",
       "      <td>-0.330808</td>\n",
       "      <td>-0.312785</td>\n",
       "      <td>-0.273059</td>\n",
       "      <td>-0.244625</td>\n",
       "      <td>-0.239904</td>\n",
       "      <td>-0.918921</td>\n",
       "      <td>1.458650</td>\n",
       "    </tr>\n",
       "    <tr>\n",
       "      <th>1</th>\n",
       "      <td>1.322365</td>\n",
       "      <td>0</td>\n",
       "      <td>-1.297775</td>\n",
       "      <td>0.252002</td>\n",
       "      <td>-1.868426</td>\n",
       "      <td>0.254625</td>\n",
       "      <td>-0.240677</td>\n",
       "      <td>-1.026167</td>\n",
       "      <td>0.112298</td>\n",
       "      <td>-0.660853</td>\n",
       "      <td>...</td>\n",
       "      <td>-0.533821</td>\n",
       "      <td>2.008543</td>\n",
       "      <td>-0.462464</td>\n",
       "      <td>-0.330808</td>\n",
       "      <td>-0.312785</td>\n",
       "      <td>-0.273059</td>\n",
       "      <td>-0.244625</td>\n",
       "      <td>-0.239904</td>\n",
       "      <td>1.088232</td>\n",
       "      <td>-0.685565</td>\n",
       "    </tr>\n",
       "    <tr>\n",
       "      <th>2</th>\n",
       "      <td>0.008343</td>\n",
       "      <td>1</td>\n",
       "      <td>1.414363</td>\n",
       "      <td>-1.031607</td>\n",
       "      <td>-0.891688</td>\n",
       "      <td>1.169781</td>\n",
       "      <td>1.284725</td>\n",
       "      <td>-1.026167</td>\n",
       "      <td>-1.094180</td>\n",
       "      <td>0.246200</td>\n",
       "      <td>...</td>\n",
       "      <td>-0.533821</td>\n",
       "      <td>-0.497873</td>\n",
       "      <td>2.162331</td>\n",
       "      <td>-0.330808</td>\n",
       "      <td>-0.312785</td>\n",
       "      <td>-0.273059</td>\n",
       "      <td>-0.244625</td>\n",
       "      <td>-0.239904</td>\n",
       "      <td>-0.918921</td>\n",
       "      <td>1.458650</td>\n",
       "    </tr>\n",
       "    <tr>\n",
       "      <th>3</th>\n",
       "      <td>-0.429664</td>\n",
       "      <td>0</td>\n",
       "      <td>1.461466</td>\n",
       "      <td>-0.695482</td>\n",
       "      <td>1.061787</td>\n",
       "      <td>1.169781</td>\n",
       "      <td>-0.486709</td>\n",
       "      <td>0.379672</td>\n",
       "      <td>-1.094180</td>\n",
       "      <td>0.246200</td>\n",
       "      <td>...</td>\n",
       "      <td>-0.533821</td>\n",
       "      <td>2.008543</td>\n",
       "      <td>-0.462464</td>\n",
       "      <td>-0.330808</td>\n",
       "      <td>-0.312785</td>\n",
       "      <td>-0.273059</td>\n",
       "      <td>-0.244625</td>\n",
       "      <td>-0.239904</td>\n",
       "      <td>1.088232</td>\n",
       "      <td>-0.685565</td>\n",
       "    </tr>\n",
       "    <tr>\n",
       "      <th>4</th>\n",
       "      <td>-1.086676</td>\n",
       "      <td>0</td>\n",
       "      <td>-0.524295</td>\n",
       "      <td>-1.031607</td>\n",
       "      <td>-1.868426</td>\n",
       "      <td>-1.575686</td>\n",
       "      <td>-1.274014</td>\n",
       "      <td>0.379672</td>\n",
       "      <td>-1.094180</td>\n",
       "      <td>-0.660853</td>\n",
       "      <td>...</td>\n",
       "      <td>-0.533821</td>\n",
       "      <td>-0.497873</td>\n",
       "      <td>2.162331</td>\n",
       "      <td>-0.330808</td>\n",
       "      <td>-0.312785</td>\n",
       "      <td>-0.273059</td>\n",
       "      <td>-0.244625</td>\n",
       "      <td>-0.239904</td>\n",
       "      <td>1.088232</td>\n",
       "      <td>-0.685565</td>\n",
       "    </tr>\n",
       "  </tbody>\n",
       "</table>\n",
       "<p>5 rows × 45 columns</p>\n",
       "</div>"
      ],
      "text/plain": [
       "        Age  Attrition  DailyRate  DistanceFromHome  Education  \\\n",
       "0  0.446350          1   0.742527         -1.505350  -0.891688   \n",
       "1  1.322365          0  -1.297775          0.252002  -1.868426   \n",
       "2  0.008343          1   1.414363         -1.031607  -0.891688   \n",
       "3 -0.429664          0   1.461466         -0.695482   1.061787   \n",
       "4 -1.086676          0  -0.524295         -1.031607  -1.868426   \n",
       "\n",
       "   EnvironmentSatisfaction  HourlyRate  JobInvolvement  JobLevel  \\\n",
       "0                -0.660531    1.383138        0.379672  0.112298   \n",
       "1                 0.254625   -0.240677       -1.026167  0.112298   \n",
       "2                 1.169781    1.284725       -1.026167 -1.094180   \n",
       "3                 1.169781   -0.486709        0.379672 -1.094180   \n",
       "4                -1.575686   -1.274014        0.379672 -1.094180   \n",
       "\n",
       "   JobSatisfaction  ...  JobRole_Sales Executive  JobRole_Research Scientist  \\\n",
       "0         1.153254  ...                 1.873287                   -0.497873   \n",
       "1        -0.660853  ...                -0.533821                    2.008543   \n",
       "2         0.246200  ...                -0.533821                   -0.497873   \n",
       "3         0.246200  ...                -0.533821                    2.008543   \n",
       "4        -0.660853  ...                -0.533821                   -0.497873   \n",
       "\n",
       "   JobRole_Laboratory Technician  JobRole_Manufacturing Director  \\\n",
       "0                      -0.462464                       -0.330808   \n",
       "1                      -0.462464                       -0.330808   \n",
       "2                       2.162331                       -0.330808   \n",
       "3                      -0.462464                       -0.330808   \n",
       "4                       2.162331                       -0.330808   \n",
       "\n",
       "   JobRole_Healthcare Representative  JobRole_Manager  \\\n",
       "0                          -0.312785        -0.273059   \n",
       "1                          -0.312785        -0.273059   \n",
       "2                          -0.312785        -0.273059   \n",
       "3                          -0.312785        -0.273059   \n",
       "4                          -0.312785        -0.273059   \n",
       "\n",
       "   JobRole_Sales Representative  JobRole_Research Director  \\\n",
       "0                     -0.244625                  -0.239904   \n",
       "1                     -0.244625                  -0.239904   \n",
       "2                     -0.244625                  -0.239904   \n",
       "3                     -0.244625                  -0.239904   \n",
       "4                     -0.244625                  -0.239904   \n",
       "\n",
       "   MaritalStatus_Married  MaritalStatus_Single  \n",
       "0              -0.918921              1.458650  \n",
       "1               1.088232             -0.685565  \n",
       "2              -0.918921              1.458650  \n",
       "3               1.088232             -0.685565  \n",
       "4               1.088232             -0.685565  \n",
       "\n",
       "[5 rows x 45 columns]"
      ]
     },
     "execution_count": 383,
     "metadata": {},
     "output_type": "execute_result"
    }
   ],
   "source": [
    "df.head()"
   ]
  },
  {
   "cell_type": "code",
   "execution_count": 384,
   "id": "08cddc9d",
   "metadata": {},
   "outputs": [
    {
     "data": {
      "text/plain": [
       "(1470, 45)"
      ]
     },
     "execution_count": 384,
     "metadata": {},
     "output_type": "execute_result"
    }
   ],
   "source": [
    "df.shape"
   ]
  },
  {
   "cell_type": "code",
   "execution_count": 385,
   "id": "ca752ccf",
   "metadata": {},
   "outputs": [
    {
     "data": {
      "text/plain": [
       "Age                                  float64\n",
       "Attrition                              int64\n",
       "DailyRate                            float64\n",
       "DistanceFromHome                     float64\n",
       "Education                            float64\n",
       "EnvironmentSatisfaction              float64\n",
       "HourlyRate                           float64\n",
       "JobInvolvement                       float64\n",
       "JobLevel                             float64\n",
       "JobSatisfaction                      float64\n",
       "MonthlyIncome                        float64\n",
       "MonthlyRate                          float64\n",
       "NumCompaniesWorked                   float64\n",
       "OverTime                             float64\n",
       "PercentSalaryHike                    float64\n",
       "PerformanceRating                    float64\n",
       "RelationshipSatisfaction             float64\n",
       "StockOptionLevel                     float64\n",
       "TotalWorkingYears                    float64\n",
       "TrainingTimesLastYear                float64\n",
       "WorkLifeBalance                      float64\n",
       "YearsAtCompany                       float64\n",
       "YearsInCurrentRole                   float64\n",
       "YearsSinceLastPromotion              float64\n",
       "YearsWithCurrManager                 float64\n",
       "BusinessTravel_Travel_Rarely         float64\n",
       "BusinessTravel_Travel_Frequently     float64\n",
       "Department_Research & Development    float64\n",
       "Department_Sales                     float64\n",
       "EducationField_Life Sciences         float64\n",
       "EducationField_Medical               float64\n",
       "EducationField_Marketing             float64\n",
       "EducationField_Technical Degree      float64\n",
       "EducationField_Other                 float64\n",
       "Gender_Male                          float64\n",
       "JobRole_Sales Executive              float64\n",
       "JobRole_Research Scientist           float64\n",
       "JobRole_Laboratory Technician        float64\n",
       "JobRole_Manufacturing Director       float64\n",
       "JobRole_Healthcare Representative    float64\n",
       "JobRole_Manager                      float64\n",
       "JobRole_Sales Representative         float64\n",
       "JobRole_Research Director            float64\n",
       "MaritalStatus_Married                float64\n",
       "MaritalStatus_Single                 float64\n",
       "dtype: object"
      ]
     },
     "execution_count": 385,
     "metadata": {},
     "output_type": "execute_result"
    }
   ],
   "source": [
    "df.dtypes"
   ]
  },
  {
   "cell_type": "code",
   "execution_count": 386,
   "id": "fcd47e49",
   "metadata": {},
   "outputs": [
    {
     "data": {
      "text/plain": [
       "<bound method DataFrame.info of            Age  Attrition  DailyRate  DistanceFromHome  Education  \\\n",
       "0     0.446350          1   0.742527         -1.505350  -0.891688   \n",
       "1     1.322365          0  -1.297775          0.252002  -1.868426   \n",
       "2     0.008343          1   1.414363         -1.031607  -0.891688   \n",
       "3    -0.429664          0   1.461466         -0.695482   1.061787   \n",
       "4    -1.086676          0  -0.524295         -1.031607  -1.868426   \n",
       "...        ...        ...        ...               ...        ...   \n",
       "1465 -0.101159          0   0.202082          1.397995  -0.891688   \n",
       "1466  0.227347          0  -0.469754         -0.041631  -1.868426   \n",
       "1467 -1.086676          0  -1.605183         -0.434763   0.085049   \n",
       "1468  1.322365          0   0.546677         -1.031607   0.085049   \n",
       "1469 -0.320163          0  -0.432568          0.252002   0.085049   \n",
       "\n",
       "      EnvironmentSatisfaction  HourlyRate  JobInvolvement  JobLevel  \\\n",
       "0                   -0.660531    1.383138        0.379672  0.112298   \n",
       "1                    0.254625   -0.240677       -1.026167  0.112298   \n",
       "2                    1.169781    1.284725       -1.026167 -1.094180   \n",
       "3                    1.169781   -0.486709        0.379672 -1.094180   \n",
       "4                   -1.575686   -1.274014        0.379672 -1.094180   \n",
       "...                       ...         ...             ...       ...   \n",
       "1465                 0.254625   -1.224807        1.785511  0.112298   \n",
       "1466                 1.169781   -1.175601       -1.026167  0.968307   \n",
       "1467                -0.660531    1.038693        1.785511  0.112298   \n",
       "1468                 1.169781   -0.142264       -1.026167  0.112298   \n",
       "1469                -0.660531    0.792660        1.785511  0.112298   \n",
       "\n",
       "      JobSatisfaction  ...  JobRole_Sales Executive  \\\n",
       "0            1.153254  ...                 1.873287   \n",
       "1           -0.660853  ...                -0.533821   \n",
       "2            0.246200  ...                -0.533821   \n",
       "3            0.246200  ...                -0.533821   \n",
       "4           -0.660853  ...                -0.533821   \n",
       "...               ...  ...                      ...   \n",
       "1465         1.153254  ...                -0.533821   \n",
       "1466        -1.567907  ...                -0.533821   \n",
       "1467        -0.660853  ...                -0.533821   \n",
       "1468        -0.660853  ...                 1.873287   \n",
       "1469         0.246200  ...                -0.533821   \n",
       "\n",
       "      JobRole_Research Scientist  JobRole_Laboratory Technician  \\\n",
       "0                      -0.497873                      -0.462464   \n",
       "1                       2.008543                      -0.462464   \n",
       "2                      -0.497873                       2.162331   \n",
       "3                       2.008543                      -0.462464   \n",
       "4                      -0.497873                       2.162331   \n",
       "...                          ...                            ...   \n",
       "1465                   -0.497873                       2.162331   \n",
       "1466                   -0.497873                      -0.462464   \n",
       "1467                   -0.497873                      -0.462464   \n",
       "1468                   -0.497873                      -0.462464   \n",
       "1469                   -0.497873                       2.162331   \n",
       "\n",
       "      JobRole_Manufacturing Director  JobRole_Healthcare Representative  \\\n",
       "0                          -0.330808                          -0.312785   \n",
       "1                          -0.330808                          -0.312785   \n",
       "2                          -0.330808                          -0.312785   \n",
       "3                          -0.330808                          -0.312785   \n",
       "4                          -0.330808                          -0.312785   \n",
       "...                              ...                                ...   \n",
       "1465                       -0.330808                          -0.312785   \n",
       "1466                       -0.330808                           3.197088   \n",
       "1467                        3.022901                          -0.312785   \n",
       "1468                       -0.330808                          -0.312785   \n",
       "1469                       -0.330808                          -0.312785   \n",
       "\n",
       "      JobRole_Manager  JobRole_Sales Representative  \\\n",
       "0           -0.273059                     -0.244625   \n",
       "1           -0.273059                     -0.244625   \n",
       "2           -0.273059                     -0.244625   \n",
       "3           -0.273059                     -0.244625   \n",
       "4           -0.273059                     -0.244625   \n",
       "...               ...                           ...   \n",
       "1465        -0.273059                     -0.244625   \n",
       "1466        -0.273059                     -0.244625   \n",
       "1467        -0.273059                     -0.244625   \n",
       "1468        -0.273059                     -0.244625   \n",
       "1469        -0.273059                     -0.244625   \n",
       "\n",
       "      JobRole_Research Director  MaritalStatus_Married  MaritalStatus_Single  \n",
       "0                     -0.239904              -0.918921              1.458650  \n",
       "1                     -0.239904               1.088232             -0.685565  \n",
       "2                     -0.239904              -0.918921              1.458650  \n",
       "3                     -0.239904               1.088232             -0.685565  \n",
       "4                     -0.239904               1.088232             -0.685565  \n",
       "...                         ...                    ...                   ...  \n",
       "1465                  -0.239904               1.088232             -0.685565  \n",
       "1466                  -0.239904               1.088232             -0.685565  \n",
       "1467                  -0.239904               1.088232             -0.685565  \n",
       "1468                  -0.239904               1.088232             -0.685565  \n",
       "1469                  -0.239904               1.088232             -0.685565  \n",
       "\n",
       "[1470 rows x 45 columns]>"
      ]
     },
     "execution_count": 386,
     "metadata": {},
     "output_type": "execute_result"
    }
   ],
   "source": [
    "df.info"
   ]
  },
  {
   "cell_type": "code",
   "execution_count": 387,
   "id": "35597280",
   "metadata": {
    "scrolled": true
   },
   "outputs": [
    {
     "data": {
      "text/html": [
       "<div>\n",
       "<style scoped>\n",
       "    .dataframe tbody tr th:only-of-type {\n",
       "        vertical-align: middle;\n",
       "    }\n",
       "\n",
       "    .dataframe tbody tr th {\n",
       "        vertical-align: top;\n",
       "    }\n",
       "\n",
       "    .dataframe thead th {\n",
       "        text-align: right;\n",
       "    }\n",
       "</style>\n",
       "<table border=\"1\" class=\"dataframe\">\n",
       "  <thead>\n",
       "    <tr style=\"text-align: right;\">\n",
       "      <th></th>\n",
       "      <th>Age</th>\n",
       "      <th>Attrition</th>\n",
       "      <th>DailyRate</th>\n",
       "      <th>DistanceFromHome</th>\n",
       "      <th>Education</th>\n",
       "      <th>EnvironmentSatisfaction</th>\n",
       "      <th>HourlyRate</th>\n",
       "      <th>JobInvolvement</th>\n",
       "      <th>JobLevel</th>\n",
       "      <th>JobSatisfaction</th>\n",
       "      <th>...</th>\n",
       "      <th>JobRole_Sales Executive</th>\n",
       "      <th>JobRole_Research Scientist</th>\n",
       "      <th>JobRole_Laboratory Technician</th>\n",
       "      <th>JobRole_Manufacturing Director</th>\n",
       "      <th>JobRole_Healthcare Representative</th>\n",
       "      <th>JobRole_Manager</th>\n",
       "      <th>JobRole_Sales Representative</th>\n",
       "      <th>JobRole_Research Director</th>\n",
       "      <th>MaritalStatus_Married</th>\n",
       "      <th>MaritalStatus_Single</th>\n",
       "    </tr>\n",
       "  </thead>\n",
       "  <tbody>\n",
       "    <tr>\n",
       "      <th>count</th>\n",
       "      <td>1.470000e+03</td>\n",
       "      <td>1470.000000</td>\n",
       "      <td>1.470000e+03</td>\n",
       "      <td>1.470000e+03</td>\n",
       "      <td>1.470000e+03</td>\n",
       "      <td>1.470000e+03</td>\n",
       "      <td>1.470000e+03</td>\n",
       "      <td>1.470000e+03</td>\n",
       "      <td>1.470000e+03</td>\n",
       "      <td>1.470000e+03</td>\n",
       "      <td>...</td>\n",
       "      <td>1.470000e+03</td>\n",
       "      <td>1.470000e+03</td>\n",
       "      <td>1.470000e+03</td>\n",
       "      <td>1.470000e+03</td>\n",
       "      <td>1.470000e+03</td>\n",
       "      <td>1.470000e+03</td>\n",
       "      <td>1.470000e+03</td>\n",
       "      <td>1.470000e+03</td>\n",
       "      <td>1.470000e+03</td>\n",
       "      <td>1.470000e+03</td>\n",
       "    </tr>\n",
       "    <tr>\n",
       "      <th>mean</th>\n",
       "      <td>1.374150e-10</td>\n",
       "      <td>0.161224</td>\n",
       "      <td>-6.802662e-13</td>\n",
       "      <td>-3.401391e-11</td>\n",
       "      <td>1.251700e-10</td>\n",
       "      <td>-5.374142e-11</td>\n",
       "      <td>-3.401352e-12</td>\n",
       "      <td>1.530611e-10</td>\n",
       "      <td>-1.530614e-10</td>\n",
       "      <td>-8.367375e-11</td>\n",
       "      <td>...</td>\n",
       "      <td>-1.551021e-10</td>\n",
       "      <td>-2.557824e-10</td>\n",
       "      <td>2.619046e-10</td>\n",
       "      <td>4.217685e-10</td>\n",
       "      <td>-1.714289e-10</td>\n",
       "      <td>-3.632650e-10</td>\n",
       "      <td>5.646255e-11</td>\n",
       "      <td>-4.217687e-10</td>\n",
       "      <td>8.775546e-11</td>\n",
       "      <td>3.401384e-11</td>\n",
       "    </tr>\n",
       "    <tr>\n",
       "      <th>std</th>\n",
       "      <td>1.000340e+00</td>\n",
       "      <td>0.367863</td>\n",
       "      <td>1.000340e+00</td>\n",
       "      <td>1.000340e+00</td>\n",
       "      <td>1.000340e+00</td>\n",
       "      <td>1.000340e+00</td>\n",
       "      <td>1.000340e+00</td>\n",
       "      <td>1.000340e+00</td>\n",
       "      <td>1.000340e+00</td>\n",
       "      <td>1.000340e+00</td>\n",
       "      <td>...</td>\n",
       "      <td>1.000340e+00</td>\n",
       "      <td>1.000340e+00</td>\n",
       "      <td>1.000340e+00</td>\n",
       "      <td>1.000340e+00</td>\n",
       "      <td>1.000340e+00</td>\n",
       "      <td>1.000340e+00</td>\n",
       "      <td>1.000340e+00</td>\n",
       "      <td>1.000340e+00</td>\n",
       "      <td>1.000340e+00</td>\n",
       "      <td>1.000340e+00</td>\n",
       "    </tr>\n",
       "    <tr>\n",
       "      <th>min</th>\n",
       "      <td>-2.072192e+00</td>\n",
       "      <td>0.000000</td>\n",
       "      <td>-1.736576e+00</td>\n",
       "      <td>-1.505350e+00</td>\n",
       "      <td>-1.868426e+00</td>\n",
       "      <td>-1.575686e+00</td>\n",
       "      <td>-1.766079e+00</td>\n",
       "      <td>-2.432006e+00</td>\n",
       "      <td>-1.094180e+00</td>\n",
       "      <td>-1.567907e+00</td>\n",
       "      <td>...</td>\n",
       "      <td>-5.338212e-01</td>\n",
       "      <td>-4.978732e-01</td>\n",
       "      <td>-4.624639e-01</td>\n",
       "      <td>-3.308080e-01</td>\n",
       "      <td>-3.127846e-01</td>\n",
       "      <td>-2.730593e-01</td>\n",
       "      <td>-2.446250e-01</td>\n",
       "      <td>-2.399041e-01</td>\n",
       "      <td>-9.189214e-01</td>\n",
       "      <td>-6.855655e-01</td>\n",
       "    </tr>\n",
       "    <tr>\n",
       "      <th>25%</th>\n",
       "      <td>-7.581700e-01</td>\n",
       "      <td>0.000000</td>\n",
       "      <td>-8.366616e-01</td>\n",
       "      <td>-1.031607e+00</td>\n",
       "      <td>-8.916882e-01</td>\n",
       "      <td>-6.605307e-01</td>\n",
       "      <td>-8.803615e-01</td>\n",
       "      <td>-1.026167e+00</td>\n",
       "      <td>-1.094180e+00</td>\n",
       "      <td>-6.608532e-01</td>\n",
       "      <td>...</td>\n",
       "      <td>-5.338212e-01</td>\n",
       "      <td>-4.978732e-01</td>\n",
       "      <td>-4.624639e-01</td>\n",
       "      <td>-3.308080e-01</td>\n",
       "      <td>-3.127846e-01</td>\n",
       "      <td>-2.730593e-01</td>\n",
       "      <td>-2.446250e-01</td>\n",
       "      <td>-2.399041e-01</td>\n",
       "      <td>-9.189214e-01</td>\n",
       "      <td>-6.855655e-01</td>\n",
       "    </tr>\n",
       "    <tr>\n",
       "      <th>50%</th>\n",
       "      <td>-1.011589e-01</td>\n",
       "      <td>0.000000</td>\n",
       "      <td>-1.204135e-03</td>\n",
       "      <td>1.143856e-01</td>\n",
       "      <td>8.504925e-02</td>\n",
       "      <td>2.546249e-01</td>\n",
       "      <td>5.355811e-03</td>\n",
       "      <td>3.796721e-01</td>\n",
       "      <td>1.122977e-01</td>\n",
       "      <td>2.462002e-01</td>\n",
       "      <td>...</td>\n",
       "      <td>-5.338212e-01</td>\n",
       "      <td>-4.978732e-01</td>\n",
       "      <td>-4.624639e-01</td>\n",
       "      <td>-3.308080e-01</td>\n",
       "      <td>-3.127846e-01</td>\n",
       "      <td>-2.730593e-01</td>\n",
       "      <td>-2.446250e-01</td>\n",
       "      <td>-2.399041e-01</td>\n",
       "      <td>-9.189214e-01</td>\n",
       "      <td>-6.855655e-01</td>\n",
       "    </tr>\n",
       "    <tr>\n",
       "      <th>75%</th>\n",
       "      <td>6.653541e-01</td>\n",
       "      <td>0.000000</td>\n",
       "      <td>8.788772e-01</td>\n",
       "      <td>8.488469e-01</td>\n",
       "      <td>1.061787e+00</td>\n",
       "      <td>1.169781e+00</td>\n",
       "      <td>8.787715e-01</td>\n",
       "      <td>3.796721e-01</td>\n",
       "      <td>9.683075e-01</td>\n",
       "      <td>1.153254e+00</td>\n",
       "      <td>...</td>\n",
       "      <td>-5.338212e-01</td>\n",
       "      <td>-4.978732e-01</td>\n",
       "      <td>-4.624639e-01</td>\n",
       "      <td>-3.308080e-01</td>\n",
       "      <td>-3.127846e-01</td>\n",
       "      <td>-2.730593e-01</td>\n",
       "      <td>-2.446250e-01</td>\n",
       "      <td>-2.399041e-01</td>\n",
       "      <td>1.088232e+00</td>\n",
       "      <td>1.458650e+00</td>\n",
       "    </tr>\n",
       "    <tr>\n",
       "      <th>max</th>\n",
       "      <td>2.526886e+00</td>\n",
       "      <td>1.000000</td>\n",
       "      <td>1.726730e+00</td>\n",
       "      <td>1.658715e+00</td>\n",
       "      <td>2.038524e+00</td>\n",
       "      <td>1.169781e+00</td>\n",
       "      <td>1.678377e+00</td>\n",
       "      <td>1.785511e+00</td>\n",
       "      <td>2.174785e+00</td>\n",
       "      <td>1.153254e+00</td>\n",
       "      <td>...</td>\n",
       "      <td>1.873287e+00</td>\n",
       "      <td>2.008543e+00</td>\n",
       "      <td>2.162331e+00</td>\n",
       "      <td>3.022901e+00</td>\n",
       "      <td>3.197088e+00</td>\n",
       "      <td>3.662208e+00</td>\n",
       "      <td>4.087890e+00</td>\n",
       "      <td>4.168333e+00</td>\n",
       "      <td>1.088232e+00</td>\n",
       "      <td>1.458650e+00</td>\n",
       "    </tr>\n",
       "  </tbody>\n",
       "</table>\n",
       "<p>8 rows × 45 columns</p>\n",
       "</div>"
      ],
      "text/plain": [
       "                Age    Attrition     DailyRate  DistanceFromHome  \\\n",
       "count  1.470000e+03  1470.000000  1.470000e+03      1.470000e+03   \n",
       "mean   1.374150e-10     0.161224 -6.802662e-13     -3.401391e-11   \n",
       "std    1.000340e+00     0.367863  1.000340e+00      1.000340e+00   \n",
       "min   -2.072192e+00     0.000000 -1.736576e+00     -1.505350e+00   \n",
       "25%   -7.581700e-01     0.000000 -8.366616e-01     -1.031607e+00   \n",
       "50%   -1.011589e-01     0.000000 -1.204135e-03      1.143856e-01   \n",
       "75%    6.653541e-01     0.000000  8.788772e-01      8.488469e-01   \n",
       "max    2.526886e+00     1.000000  1.726730e+00      1.658715e+00   \n",
       "\n",
       "          Education  EnvironmentSatisfaction    HourlyRate  JobInvolvement  \\\n",
       "count  1.470000e+03             1.470000e+03  1.470000e+03    1.470000e+03   \n",
       "mean   1.251700e-10            -5.374142e-11 -3.401352e-12    1.530611e-10   \n",
       "std    1.000340e+00             1.000340e+00  1.000340e+00    1.000340e+00   \n",
       "min   -1.868426e+00            -1.575686e+00 -1.766079e+00   -2.432006e+00   \n",
       "25%   -8.916882e-01            -6.605307e-01 -8.803615e-01   -1.026167e+00   \n",
       "50%    8.504925e-02             2.546249e-01  5.355811e-03    3.796721e-01   \n",
       "75%    1.061787e+00             1.169781e+00  8.787715e-01    3.796721e-01   \n",
       "max    2.038524e+00             1.169781e+00  1.678377e+00    1.785511e+00   \n",
       "\n",
       "           JobLevel  JobSatisfaction  ...  JobRole_Sales Executive  \\\n",
       "count  1.470000e+03     1.470000e+03  ...             1.470000e+03   \n",
       "mean  -1.530614e-10    -8.367375e-11  ...            -1.551021e-10   \n",
       "std    1.000340e+00     1.000340e+00  ...             1.000340e+00   \n",
       "min   -1.094180e+00    -1.567907e+00  ...            -5.338212e-01   \n",
       "25%   -1.094180e+00    -6.608532e-01  ...            -5.338212e-01   \n",
       "50%    1.122977e-01     2.462002e-01  ...            -5.338212e-01   \n",
       "75%    9.683075e-01     1.153254e+00  ...            -5.338212e-01   \n",
       "max    2.174785e+00     1.153254e+00  ...             1.873287e+00   \n",
       "\n",
       "       JobRole_Research Scientist  JobRole_Laboratory Technician  \\\n",
       "count                1.470000e+03                   1.470000e+03   \n",
       "mean                -2.557824e-10                   2.619046e-10   \n",
       "std                  1.000340e+00                   1.000340e+00   \n",
       "min                 -4.978732e-01                  -4.624639e-01   \n",
       "25%                 -4.978732e-01                  -4.624639e-01   \n",
       "50%                 -4.978732e-01                  -4.624639e-01   \n",
       "75%                 -4.978732e-01                  -4.624639e-01   \n",
       "max                  2.008543e+00                   2.162331e+00   \n",
       "\n",
       "       JobRole_Manufacturing Director  JobRole_Healthcare Representative  \\\n",
       "count                    1.470000e+03                       1.470000e+03   \n",
       "mean                     4.217685e-10                      -1.714289e-10   \n",
       "std                      1.000340e+00                       1.000340e+00   \n",
       "min                     -3.308080e-01                      -3.127846e-01   \n",
       "25%                     -3.308080e-01                      -3.127846e-01   \n",
       "50%                     -3.308080e-01                      -3.127846e-01   \n",
       "75%                     -3.308080e-01                      -3.127846e-01   \n",
       "max                      3.022901e+00                       3.197088e+00   \n",
       "\n",
       "       JobRole_Manager  JobRole_Sales Representative  \\\n",
       "count     1.470000e+03                  1.470000e+03   \n",
       "mean     -3.632650e-10                  5.646255e-11   \n",
       "std       1.000340e+00                  1.000340e+00   \n",
       "min      -2.730593e-01                 -2.446250e-01   \n",
       "25%      -2.730593e-01                 -2.446250e-01   \n",
       "50%      -2.730593e-01                 -2.446250e-01   \n",
       "75%      -2.730593e-01                 -2.446250e-01   \n",
       "max       3.662208e+00                  4.087890e+00   \n",
       "\n",
       "       JobRole_Research Director  MaritalStatus_Married  MaritalStatus_Single  \n",
       "count               1.470000e+03           1.470000e+03          1.470000e+03  \n",
       "mean               -4.217687e-10           8.775546e-11          3.401384e-11  \n",
       "std                 1.000340e+00           1.000340e+00          1.000340e+00  \n",
       "min                -2.399041e-01          -9.189214e-01         -6.855655e-01  \n",
       "25%                -2.399041e-01          -9.189214e-01         -6.855655e-01  \n",
       "50%                -2.399041e-01          -9.189214e-01         -6.855655e-01  \n",
       "75%                -2.399041e-01           1.088232e+00          1.458650e+00  \n",
       "max                 4.168333e+00           1.088232e+00          1.458650e+00  \n",
       "\n",
       "[8 rows x 45 columns]"
      ]
     },
     "execution_count": 387,
     "metadata": {},
     "output_type": "execute_result"
    }
   ],
   "source": [
    "df.describe()"
   ]
  },
  {
   "cell_type": "code",
   "execution_count": 388,
   "id": "4281a122",
   "metadata": {},
   "outputs": [
    {
     "data": {
      "text/plain": [
       "Age                                  0\n",
       "Attrition                            0\n",
       "DailyRate                            0\n",
       "DistanceFromHome                     0\n",
       "Education                            0\n",
       "EnvironmentSatisfaction              0\n",
       "HourlyRate                           0\n",
       "JobInvolvement                       0\n",
       "JobLevel                             0\n",
       "JobSatisfaction                      0\n",
       "MonthlyIncome                        0\n",
       "MonthlyRate                          0\n",
       "NumCompaniesWorked                   0\n",
       "OverTime                             0\n",
       "PercentSalaryHike                    0\n",
       "PerformanceRating                    0\n",
       "RelationshipSatisfaction             0\n",
       "StockOptionLevel                     0\n",
       "TotalWorkingYears                    0\n",
       "TrainingTimesLastYear                0\n",
       "WorkLifeBalance                      0\n",
       "YearsAtCompany                       0\n",
       "YearsInCurrentRole                   0\n",
       "YearsSinceLastPromotion              0\n",
       "YearsWithCurrManager                 0\n",
       "BusinessTravel_Travel_Rarely         0\n",
       "BusinessTravel_Travel_Frequently     0\n",
       "Department_Research & Development    0\n",
       "Department_Sales                     0\n",
       "EducationField_Life Sciences         0\n",
       "EducationField_Medical               0\n",
       "EducationField_Marketing             0\n",
       "EducationField_Technical Degree      0\n",
       "EducationField_Other                 0\n",
       "Gender_Male                          0\n",
       "JobRole_Sales Executive              0\n",
       "JobRole_Research Scientist           0\n",
       "JobRole_Laboratory Technician        0\n",
       "JobRole_Manufacturing Director       0\n",
       "JobRole_Healthcare Representative    0\n",
       "JobRole_Manager                      0\n",
       "JobRole_Sales Representative         0\n",
       "JobRole_Research Director            0\n",
       "MaritalStatus_Married                0\n",
       "MaritalStatus_Single                 0\n",
       "dtype: int64"
      ]
     },
     "execution_count": 388,
     "metadata": {},
     "output_type": "execute_result"
    }
   ],
   "source": [
    "df.isna().sum()"
   ]
  },
  {
   "cell_type": "code",
   "execution_count": 389,
   "id": "49af5fba",
   "metadata": {},
   "outputs": [
    {
     "data": {
      "text/plain": [
       "0    1233\n",
       "1     237\n",
       "Name: Attrition, dtype: int64"
      ]
     },
     "execution_count": 389,
     "metadata": {},
     "output_type": "execute_result"
    }
   ],
   "source": [
    "df['Attrition'].value_counts()"
   ]
  },
  {
   "cell_type": "code",
   "execution_count": 390,
   "id": "f706ba68",
   "metadata": {},
   "outputs": [],
   "source": [
    "X = df.drop('Attrition', axis=1)"
   ]
  },
  {
   "cell_type": "code",
   "execution_count": 391,
   "id": "30243d4d",
   "metadata": {},
   "outputs": [],
   "source": [
    "y=df['Attrition']"
   ]
  },
  {
   "cell_type": "code",
   "execution_count": 392,
   "id": "5c2a1b4c",
   "metadata": {},
   "outputs": [
    {
     "data": {
      "text/html": [
       "<div>\n",
       "<style scoped>\n",
       "    .dataframe tbody tr th:only-of-type {\n",
       "        vertical-align: middle;\n",
       "    }\n",
       "\n",
       "    .dataframe tbody tr th {\n",
       "        vertical-align: top;\n",
       "    }\n",
       "\n",
       "    .dataframe thead th {\n",
       "        text-align: right;\n",
       "    }\n",
       "</style>\n",
       "<table border=\"1\" class=\"dataframe\">\n",
       "  <thead>\n",
       "    <tr style=\"text-align: right;\">\n",
       "      <th></th>\n",
       "      <th>Age</th>\n",
       "      <th>DailyRate</th>\n",
       "      <th>DistanceFromHome</th>\n",
       "      <th>Education</th>\n",
       "      <th>EnvironmentSatisfaction</th>\n",
       "      <th>HourlyRate</th>\n",
       "      <th>JobInvolvement</th>\n",
       "      <th>JobLevel</th>\n",
       "      <th>JobSatisfaction</th>\n",
       "      <th>MonthlyIncome</th>\n",
       "      <th>...</th>\n",
       "      <th>JobRole_Sales Executive</th>\n",
       "      <th>JobRole_Research Scientist</th>\n",
       "      <th>JobRole_Laboratory Technician</th>\n",
       "      <th>JobRole_Manufacturing Director</th>\n",
       "      <th>JobRole_Healthcare Representative</th>\n",
       "      <th>JobRole_Manager</th>\n",
       "      <th>JobRole_Sales Representative</th>\n",
       "      <th>JobRole_Research Director</th>\n",
       "      <th>MaritalStatus_Married</th>\n",
       "      <th>MaritalStatus_Single</th>\n",
       "    </tr>\n",
       "  </thead>\n",
       "  <tbody>\n",
       "    <tr>\n",
       "      <th>0</th>\n",
       "      <td>0.446350</td>\n",
       "      <td>0.742527</td>\n",
       "      <td>-1.505350</td>\n",
       "      <td>-0.891688</td>\n",
       "      <td>-0.660531</td>\n",
       "      <td>1.383138</td>\n",
       "      <td>0.379672</td>\n",
       "      <td>0.112298</td>\n",
       "      <td>1.153254</td>\n",
       "      <td>0.219493</td>\n",
       "      <td>...</td>\n",
       "      <td>1.873287</td>\n",
       "      <td>-0.497873</td>\n",
       "      <td>-0.462464</td>\n",
       "      <td>-0.330808</td>\n",
       "      <td>-0.312785</td>\n",
       "      <td>-0.273059</td>\n",
       "      <td>-0.244625</td>\n",
       "      <td>-0.239904</td>\n",
       "      <td>-0.918921</td>\n",
       "      <td>1.458650</td>\n",
       "    </tr>\n",
       "    <tr>\n",
       "      <th>1</th>\n",
       "      <td>1.322365</td>\n",
       "      <td>-1.297775</td>\n",
       "      <td>0.252002</td>\n",
       "      <td>-1.868426</td>\n",
       "      <td>0.254625</td>\n",
       "      <td>-0.240677</td>\n",
       "      <td>-1.026167</td>\n",
       "      <td>0.112298</td>\n",
       "      <td>-0.660853</td>\n",
       "      <td>-0.014600</td>\n",
       "      <td>...</td>\n",
       "      <td>-0.533821</td>\n",
       "      <td>2.008543</td>\n",
       "      <td>-0.462464</td>\n",
       "      <td>-0.330808</td>\n",
       "      <td>-0.312785</td>\n",
       "      <td>-0.273059</td>\n",
       "      <td>-0.244625</td>\n",
       "      <td>-0.239904</td>\n",
       "      <td>1.088232</td>\n",
       "      <td>-0.685565</td>\n",
       "    </tr>\n",
       "    <tr>\n",
       "      <th>2</th>\n",
       "      <td>0.008343</td>\n",
       "      <td>1.414363</td>\n",
       "      <td>-1.031607</td>\n",
       "      <td>-0.891688</td>\n",
       "      <td>1.169781</td>\n",
       "      <td>1.284725</td>\n",
       "      <td>-1.026167</td>\n",
       "      <td>-1.094180</td>\n",
       "      <td>0.246200</td>\n",
       "      <td>-1.366318</td>\n",
       "      <td>...</td>\n",
       "      <td>-0.533821</td>\n",
       "      <td>-0.497873</td>\n",
       "      <td>2.162331</td>\n",
       "      <td>-0.330808</td>\n",
       "      <td>-0.312785</td>\n",
       "      <td>-0.273059</td>\n",
       "      <td>-0.244625</td>\n",
       "      <td>-0.239904</td>\n",
       "      <td>-0.918921</td>\n",
       "      <td>1.458650</td>\n",
       "    </tr>\n",
       "    <tr>\n",
       "      <th>3</th>\n",
       "      <td>-0.429664</td>\n",
       "      <td>1.461466</td>\n",
       "      <td>-0.695482</td>\n",
       "      <td>1.061787</td>\n",
       "      <td>1.169781</td>\n",
       "      <td>-0.486709</td>\n",
       "      <td>0.379672</td>\n",
       "      <td>-1.094180</td>\n",
       "      <td>0.246200</td>\n",
       "      <td>-0.868626</td>\n",
       "      <td>...</td>\n",
       "      <td>-0.533821</td>\n",
       "      <td>2.008543</td>\n",
       "      <td>-0.462464</td>\n",
       "      <td>-0.330808</td>\n",
       "      <td>-0.312785</td>\n",
       "      <td>-0.273059</td>\n",
       "      <td>-0.244625</td>\n",
       "      <td>-0.239904</td>\n",
       "      <td>1.088232</td>\n",
       "      <td>-0.685565</td>\n",
       "    </tr>\n",
       "    <tr>\n",
       "      <th>4</th>\n",
       "      <td>-1.086676</td>\n",
       "      <td>-0.524295</td>\n",
       "      <td>-1.031607</td>\n",
       "      <td>-1.868426</td>\n",
       "      <td>-1.575686</td>\n",
       "      <td>-1.274014</td>\n",
       "      <td>0.379672</td>\n",
       "      <td>-1.094180</td>\n",
       "      <td>-0.660853</td>\n",
       "      <td>-0.604032</td>\n",
       "      <td>...</td>\n",
       "      <td>-0.533821</td>\n",
       "      <td>-0.497873</td>\n",
       "      <td>2.162331</td>\n",
       "      <td>-0.330808</td>\n",
       "      <td>-0.312785</td>\n",
       "      <td>-0.273059</td>\n",
       "      <td>-0.244625</td>\n",
       "      <td>-0.239904</td>\n",
       "      <td>1.088232</td>\n",
       "      <td>-0.685565</td>\n",
       "    </tr>\n",
       "    <tr>\n",
       "      <th>...</th>\n",
       "      <td>...</td>\n",
       "      <td>...</td>\n",
       "      <td>...</td>\n",
       "      <td>...</td>\n",
       "      <td>...</td>\n",
       "      <td>...</td>\n",
       "      <td>...</td>\n",
       "      <td>...</td>\n",
       "      <td>...</td>\n",
       "      <td>...</td>\n",
       "      <td>...</td>\n",
       "      <td>...</td>\n",
       "      <td>...</td>\n",
       "      <td>...</td>\n",
       "      <td>...</td>\n",
       "      <td>...</td>\n",
       "      <td>...</td>\n",
       "      <td>...</td>\n",
       "      <td>...</td>\n",
       "      <td>...</td>\n",
       "      <td>...</td>\n",
       "    </tr>\n",
       "    <tr>\n",
       "      <th>1465</th>\n",
       "      <td>-0.101159</td>\n",
       "      <td>0.202082</td>\n",
       "      <td>1.397995</td>\n",
       "      <td>-0.891688</td>\n",
       "      <td>0.254625</td>\n",
       "      <td>-1.224807</td>\n",
       "      <td>1.785511</td>\n",
       "      <td>0.112298</td>\n",
       "      <td>1.153254</td>\n",
       "      <td>-1.054549</td>\n",
       "      <td>...</td>\n",
       "      <td>-0.533821</td>\n",
       "      <td>-0.497873</td>\n",
       "      <td>2.162331</td>\n",
       "      <td>-0.330808</td>\n",
       "      <td>-0.312785</td>\n",
       "      <td>-0.273059</td>\n",
       "      <td>-0.244625</td>\n",
       "      <td>-0.239904</td>\n",
       "      <td>1.088232</td>\n",
       "      <td>-0.685565</td>\n",
       "    </tr>\n",
       "    <tr>\n",
       "      <th>1466</th>\n",
       "      <td>0.227347</td>\n",
       "      <td>-0.469754</td>\n",
       "      <td>-0.041631</td>\n",
       "      <td>-1.868426</td>\n",
       "      <td>1.169781</td>\n",
       "      <td>-1.175601</td>\n",
       "      <td>-1.026167</td>\n",
       "      <td>0.968307</td>\n",
       "      <td>-1.567907</td>\n",
       "      <td>0.989009</td>\n",
       "      <td>...</td>\n",
       "      <td>-0.533821</td>\n",
       "      <td>-0.497873</td>\n",
       "      <td>-0.462464</td>\n",
       "      <td>-0.330808</td>\n",
       "      <td>3.197088</td>\n",
       "      <td>-0.273059</td>\n",
       "      <td>-0.244625</td>\n",
       "      <td>-0.239904</td>\n",
       "      <td>1.088232</td>\n",
       "      <td>-0.685565</td>\n",
       "    </tr>\n",
       "    <tr>\n",
       "      <th>1467</th>\n",
       "      <td>-1.086676</td>\n",
       "      <td>-1.605183</td>\n",
       "      <td>-0.434763</td>\n",
       "      <td>0.085049</td>\n",
       "      <td>-0.660531</td>\n",
       "      <td>1.038693</td>\n",
       "      <td>1.785511</td>\n",
       "      <td>0.112298</td>\n",
       "      <td>-0.660853</td>\n",
       "      <td>0.256468</td>\n",
       "      <td>...</td>\n",
       "      <td>-0.533821</td>\n",
       "      <td>-0.497873</td>\n",
       "      <td>-0.462464</td>\n",
       "      <td>3.022901</td>\n",
       "      <td>-0.312785</td>\n",
       "      <td>-0.273059</td>\n",
       "      <td>-0.244625</td>\n",
       "      <td>-0.239904</td>\n",
       "      <td>1.088232</td>\n",
       "      <td>-0.685565</td>\n",
       "    </tr>\n",
       "    <tr>\n",
       "      <th>1468</th>\n",
       "      <td>1.322365</td>\n",
       "      <td>0.546677</td>\n",
       "      <td>-1.031607</td>\n",
       "      <td>0.085049</td>\n",
       "      <td>1.169781</td>\n",
       "      <td>-0.142264</td>\n",
       "      <td>-1.026167</td>\n",
       "      <td>0.112298</td>\n",
       "      <td>-0.660853</td>\n",
       "      <td>0.059833</td>\n",
       "      <td>...</td>\n",
       "      <td>1.873287</td>\n",
       "      <td>-0.497873</td>\n",
       "      <td>-0.462464</td>\n",
       "      <td>-0.330808</td>\n",
       "      <td>-0.312785</td>\n",
       "      <td>-0.273059</td>\n",
       "      <td>-0.244625</td>\n",
       "      <td>-0.239904</td>\n",
       "      <td>1.088232</td>\n",
       "      <td>-0.685565</td>\n",
       "    </tr>\n",
       "    <tr>\n",
       "      <th>1469</th>\n",
       "      <td>-0.320163</td>\n",
       "      <td>-0.432568</td>\n",
       "      <td>0.252002</td>\n",
       "      <td>0.085049</td>\n",
       "      <td>-0.660531</td>\n",
       "      <td>0.792660</td>\n",
       "      <td>1.785511</td>\n",
       "      <td>0.112298</td>\n",
       "      <td>0.246200</td>\n",
       "      <td>-0.244330</td>\n",
       "      <td>...</td>\n",
       "      <td>-0.533821</td>\n",
       "      <td>-0.497873</td>\n",
       "      <td>2.162331</td>\n",
       "      <td>-0.330808</td>\n",
       "      <td>-0.312785</td>\n",
       "      <td>-0.273059</td>\n",
       "      <td>-0.244625</td>\n",
       "      <td>-0.239904</td>\n",
       "      <td>1.088232</td>\n",
       "      <td>-0.685565</td>\n",
       "    </tr>\n",
       "  </tbody>\n",
       "</table>\n",
       "<p>1470 rows × 44 columns</p>\n",
       "</div>"
      ],
      "text/plain": [
       "           Age  DailyRate  DistanceFromHome  Education  \\\n",
       "0     0.446350   0.742527         -1.505350  -0.891688   \n",
       "1     1.322365  -1.297775          0.252002  -1.868426   \n",
       "2     0.008343   1.414363         -1.031607  -0.891688   \n",
       "3    -0.429664   1.461466         -0.695482   1.061787   \n",
       "4    -1.086676  -0.524295         -1.031607  -1.868426   \n",
       "...        ...        ...               ...        ...   \n",
       "1465 -0.101159   0.202082          1.397995  -0.891688   \n",
       "1466  0.227347  -0.469754         -0.041631  -1.868426   \n",
       "1467 -1.086676  -1.605183         -0.434763   0.085049   \n",
       "1468  1.322365   0.546677         -1.031607   0.085049   \n",
       "1469 -0.320163  -0.432568          0.252002   0.085049   \n",
       "\n",
       "      EnvironmentSatisfaction  HourlyRate  JobInvolvement  JobLevel  \\\n",
       "0                   -0.660531    1.383138        0.379672  0.112298   \n",
       "1                    0.254625   -0.240677       -1.026167  0.112298   \n",
       "2                    1.169781    1.284725       -1.026167 -1.094180   \n",
       "3                    1.169781   -0.486709        0.379672 -1.094180   \n",
       "4                   -1.575686   -1.274014        0.379672 -1.094180   \n",
       "...                       ...         ...             ...       ...   \n",
       "1465                 0.254625   -1.224807        1.785511  0.112298   \n",
       "1466                 1.169781   -1.175601       -1.026167  0.968307   \n",
       "1467                -0.660531    1.038693        1.785511  0.112298   \n",
       "1468                 1.169781   -0.142264       -1.026167  0.112298   \n",
       "1469                -0.660531    0.792660        1.785511  0.112298   \n",
       "\n",
       "      JobSatisfaction  MonthlyIncome  ...  JobRole_Sales Executive  \\\n",
       "0            1.153254       0.219493  ...                 1.873287   \n",
       "1           -0.660853      -0.014600  ...                -0.533821   \n",
       "2            0.246200      -1.366318  ...                -0.533821   \n",
       "3            0.246200      -0.868626  ...                -0.533821   \n",
       "4           -0.660853      -0.604032  ...                -0.533821   \n",
       "...               ...            ...  ...                      ...   \n",
       "1465         1.153254      -1.054549  ...                -0.533821   \n",
       "1466        -1.567907       0.989009  ...                -0.533821   \n",
       "1467        -0.660853       0.256468  ...                -0.533821   \n",
       "1468        -0.660853       0.059833  ...                 1.873287   \n",
       "1469         0.246200      -0.244330  ...                -0.533821   \n",
       "\n",
       "      JobRole_Research Scientist  JobRole_Laboratory Technician  \\\n",
       "0                      -0.497873                      -0.462464   \n",
       "1                       2.008543                      -0.462464   \n",
       "2                      -0.497873                       2.162331   \n",
       "3                       2.008543                      -0.462464   \n",
       "4                      -0.497873                       2.162331   \n",
       "...                          ...                            ...   \n",
       "1465                   -0.497873                       2.162331   \n",
       "1466                   -0.497873                      -0.462464   \n",
       "1467                   -0.497873                      -0.462464   \n",
       "1468                   -0.497873                      -0.462464   \n",
       "1469                   -0.497873                       2.162331   \n",
       "\n",
       "      JobRole_Manufacturing Director  JobRole_Healthcare Representative  \\\n",
       "0                          -0.330808                          -0.312785   \n",
       "1                          -0.330808                          -0.312785   \n",
       "2                          -0.330808                          -0.312785   \n",
       "3                          -0.330808                          -0.312785   \n",
       "4                          -0.330808                          -0.312785   \n",
       "...                              ...                                ...   \n",
       "1465                       -0.330808                          -0.312785   \n",
       "1466                       -0.330808                           3.197088   \n",
       "1467                        3.022901                          -0.312785   \n",
       "1468                       -0.330808                          -0.312785   \n",
       "1469                       -0.330808                          -0.312785   \n",
       "\n",
       "      JobRole_Manager  JobRole_Sales Representative  \\\n",
       "0           -0.273059                     -0.244625   \n",
       "1           -0.273059                     -0.244625   \n",
       "2           -0.273059                     -0.244625   \n",
       "3           -0.273059                     -0.244625   \n",
       "4           -0.273059                     -0.244625   \n",
       "...               ...                           ...   \n",
       "1465        -0.273059                     -0.244625   \n",
       "1466        -0.273059                     -0.244625   \n",
       "1467        -0.273059                     -0.244625   \n",
       "1468        -0.273059                     -0.244625   \n",
       "1469        -0.273059                     -0.244625   \n",
       "\n",
       "      JobRole_Research Director  MaritalStatus_Married  MaritalStatus_Single  \n",
       "0                     -0.239904              -0.918921              1.458650  \n",
       "1                     -0.239904               1.088232             -0.685565  \n",
       "2                     -0.239904              -0.918921              1.458650  \n",
       "3                     -0.239904               1.088232             -0.685565  \n",
       "4                     -0.239904               1.088232             -0.685565  \n",
       "...                         ...                    ...                   ...  \n",
       "1465                  -0.239904               1.088232             -0.685565  \n",
       "1466                  -0.239904               1.088232             -0.685565  \n",
       "1467                  -0.239904               1.088232             -0.685565  \n",
       "1468                  -0.239904               1.088232             -0.685565  \n",
       "1469                  -0.239904               1.088232             -0.685565  \n",
       "\n",
       "[1470 rows x 44 columns]"
      ]
     },
     "execution_count": 392,
     "metadata": {},
     "output_type": "execute_result"
    }
   ],
   "source": [
    "X"
   ]
  },
  {
   "cell_type": "code",
   "execution_count": 393,
   "id": "45702ecd",
   "metadata": {},
   "outputs": [
    {
     "data": {
      "text/plain": [
       "0       1\n",
       "1       0\n",
       "2       1\n",
       "3       0\n",
       "4       0\n",
       "       ..\n",
       "1465    0\n",
       "1466    0\n",
       "1467    0\n",
       "1468    0\n",
       "1469    0\n",
       "Name: Attrition, Length: 1470, dtype: int64"
      ]
     },
     "execution_count": 393,
     "metadata": {},
     "output_type": "execute_result"
    }
   ],
   "source": [
    "y"
   ]
  },
  {
   "cell_type": "code",
   "execution_count": 394,
   "id": "524c1dbc",
   "metadata": {},
   "outputs": [
    {
     "data": {
      "image/png": "[encoded data removed]",
      "text/plain": [
       "<Figure size 576x576 with 1 Axes>"
      ]
     },
     "metadata": {},
     "output_type": "display_data"
    }
   ],
   "source": [
    "plt.figure(figsize=(8,8))\n",
    "pie = df.groupby('Attrition')['Attrition'].count()\n",
    "plt.pie(pie, explode=[0.1, 0.1], labels=['No', 'Yes'], autopct='%1.1f%%');"
   ]
  },
  {
   "cell_type": "code",
   "execution_count": 395,
   "id": "8a671feb",
   "metadata": {},
   "outputs": [],
   "source": [
    "from sklearn.model_selection import train_test_split\n",
    "X_train,X_test,y_train,y_test = train_test_split(X,y, test_size=0.2,random_state=2)"
   ]
  },
  {
   "cell_type": "code",
   "execution_count": 396,
   "id": "1763fdfc",
   "metadata": {},
   "outputs": [
    {
     "name": "stdout",
     "output_type": "stream",
     "text": [
      "(1470, 44)\n",
      "(1176, 44)\n",
      "(294, 44)\n"
     ]
    }
   ],
   "source": [
    "print(X.shape)\n",
    "print(X_train.shape)\n",
    "print(X_test.shape)"
   ]
  },
  {
   "cell_type": "code",
   "execution_count": 397,
   "id": "a7cabcbf",
   "metadata": {},
   "outputs": [
    {
     "name": "stdout",
     "output_type": "stream",
     "text": [
      "Testing model: Logistic Regression\n",
      "Cross_Val Mean: 0.8813727727533947, Training Accuracy: 0.9039115646258503, Testing Accuracy: 0.8775510204081632\n",
      "\n"
     ]
    }
   ],
   "source": [
    "models = [] # ML Models\n",
    "#models.append((\"Random Forest\", RandomForestClassifier()))\n",
    "models.append((\"Logistic Regression\", LogisticRegression(solver='liblinear')))\n",
    "#models.append((\"SVM\", svm.SVC(kernel='linear')))\n",
    "\n",
    "n_folds = 5\n",
    "results = []\n",
    "for name, model in models:\n",
    "    kfold = model_selection.KFold(n_splits=n_folds)\n",
    "    print(\"Testing model:\", name)\n",
    "    \n",
    "    # Cross Validation Score\n",
    "    cv_results = model_selection.cross_val_score(model, X_train, y_train, cv=kfold, scoring=\"f1_weighted\", verbose=0, n_jobs=-1)\n",
    "    \n",
    "    # Fitting the Model\n",
    "    model.fit(X_train,y_train)\n",
    "    \n",
    "    # Model Predictions and Finding Accuracy\n",
    "    train_pred = model.predict(X_train)\n",
    "    Training_score = accuracy_score(train_pred,y_train)\n",
    "    test_pred = model.predict(X_test)\n",
    "    Test_score = accuracy_score(test_pred,y_test)\n",
    "    \n",
    "    results.append(cv_results)\n",
    "    \n",
    "    msg = f\"Cross_Val Mean: {cv_results.mean()}, Training Accuracy: {Training_score}, Testing Accuracy: {Test_score}\"\n",
    "    print(msg + \"\\n\")\n",
    "    \n",
    "        \n",
    "        \n",
    "        \n",
    "        \n",
    "        \n",
    "        \n",
    "    \n",
    "    \n",
    "    \n",
    "    \n"
   ]
  },
  {
   "cell_type": "code",
   "execution_count": 398,
   "id": "0dbbbf3e",
   "metadata": {},
   "outputs": [],
   "source": [
    "y_pred_logi=LRClassifier.decision_function(X_test)\n"
   ]
  },
  {
   "cell_type": "code",
   "execution_count": 399,
   "id": "45e35019",
   "metadata": {},
   "outputs": [],
   "source": [
    "prediction=LRClassifier.predict(X_test)"
   ]
  },
  {
   "attachments": {},
   "cell_type": "markdown",
   "id": "30b7873f",
   "metadata": {},
   "source": [
    "# 2 ) Apply bagging & boosting    "
   ]
  },
  {
   "cell_type": "markdown",
   "id": "d727bb52",
   "metadata": {},
   "source": [
    "# Goal6)Ensemble Techniques on model"
   ]
  },
  {
   "cell_type": "code",
   "execution_count": 400,
   "id": "de09c781",
   "metadata": {},
   "outputs": [
    {
     "data": {
      "text/plain": [
       "0.9030612244897959"
      ]
     },
     "execution_count": 400,
     "metadata": {},
     "output_type": "execute_result"
    }
   ],
   "source": [
    "from sklearn.ensemble import BaggingClassifier\n",
    "model=BaggingClassifier(\n",
    " base_estimator=LogisticRegression(random_state=1),n_estimators=100,random_state=0)\n",
    "\n",
    "\n",
    "model.fit(X_train,y_train)\n",
    "model.score(X_train,y_train)"
   ]
  },
  {
   "cell_type": "code",
   "execution_count": 401,
   "id": "e44b3efd",
   "metadata": {},
   "outputs": [
    {
     "data": {
      "text/plain": [
       "0.8894557823129252"
      ]
     },
     "execution_count": 401,
     "metadata": {},
     "output_type": "execute_result"
    }
   ],
   "source": [
    "from sklearn.ensemble import AdaBoostClassifier\n",
    "model=AdaBoostClassifier(\n",
    " base_estimator=LogisticRegression(random_state=1),n_estimators=100,random_state=0)\n",
    "\n",
    "\n",
    "model.fit(X_train,y_train)\n",
    "model.score(X_train,y_train)"
   ]
  },
  {
   "cell_type": "code",
   "execution_count": 402,
   "id": "50d0f681",
   "metadata": {},
   "outputs": [
    {
     "name": "stdout",
     "output_type": "stream",
     "text": [
      "The accuracy of the AdaBoostClassifier is 0.8673469387755102\n"
     ]
    }
   ],
   "source": [
    "model=AdaBoostClassifier()\n",
    "model.fit(X_train,y_train)\n",
    "prediction1=model.predict(X_test)\n",
    "print('The accuracy of the AdaBoostClassifier is',metrics.accuracy_score(prediction1,y_test))"
   ]
  },
  {
   "cell_type": "code",
   "execution_count": 403,
   "id": "8e63420c",
   "metadata": {},
   "outputs": [
    {
     "data": {
      "text/plain": [
       "0.9268707482993197"
      ]
     },
     "execution_count": 403,
     "metadata": {},
     "output_type": "execute_result"
    }
   ],
   "source": [
    "from sklearn.ensemble import GradientBoostingClassifier\n",
    "model = GradientBoostingClassifier(n_estimators=100, learning_rate=1.0,\n",
    "     max_depth=1, random_state=0)\n",
    "model.fit(X_train,y_train)\n",
    "model.score(X_train,y_train)"
   ]
  },
  {
   "cell_type": "code",
   "execution_count": 404,
   "id": "dd9de9e2",
   "metadata": {},
   "outputs": [
    {
     "name": "stdout",
     "output_type": "stream",
     "text": [
      "The accuracy of the GradientBoostingClassifier is 0.8605442176870748\n"
     ]
    }
   ],
   "source": [
    "model=GradientBoostingClassifier()\n",
    "model.fit(X_train,y_train)\n",
    "prediction2=model.predict(X_test)\n",
    "print('The accuracy of the GradientBoostingClassifier is',metrics.accuracy_score(prediction2,y_test))"
   ]
  },
  {
   "cell_type": "code",
   "execution_count": 405,
   "id": "f3081a9d",
   "metadata": {},
   "outputs": [
    {
     "data": {
      "text/plain": [
       "0.8894557823129252"
      ]
     },
     "execution_count": 405,
     "metadata": {},
     "output_type": "execute_result"
    }
   ],
   "source": [
    "from sklearn.ensemble import AdaBoostClassifier\n",
    "model=AdaBoostClassifier(\n",
    " base_estimator=LogisticRegression(random_state=1),n_estimators=100,random_state=0)\n",
    "\n",
    "\n",
    "model.fit(X_train,y_train)\n",
    "model.score(X_train,y_train)"
   ]
  },
  {
   "cell_type": "code",
   "execution_count": 406,
   "id": "e8937204",
   "metadata": {},
   "outputs": [
    {
     "data": {
      "text/plain": [
       "0.9260204081632653"
      ]
     },
     "execution_count": 406,
     "metadata": {},
     "output_type": "execute_result"
    }
   ],
   "source": [
    "from xgboost import XGBClassifier\n",
    "model = XGBClassifier( base_estimator=LogisticRegression, learning_rate = 1,max_depth = 20, alpha = 10, n_estimators = 1000) \n",
    "\n",
    "model.fit(X_train,y_train)\n",
    "model.score(X_train,y_train)"
   ]
  },
  {
   "cell_type": "code",
   "execution_count": 407,
   "id": "7a36885d",
   "metadata": {},
   "outputs": [
    {
     "name": "stdout",
     "output_type": "stream",
     "text": [
      "The accuracy of the XGBClassifier is 0.8571428571428571\n"
     ]
    }
   ],
   "source": [
    "model=XGBClassifier()\n",
    "model.fit(X_train,y_train)\n",
    "prediction4=model.predict(X_test)\n",
    "print('The accuracy of the XGBClassifier is',metrics.accuracy_score(prediction4,y_test))"
   ]
  },
  {
   "cell_type": "markdown",
   "id": "5867b78a",
   "metadata": {},
   "source": [
    "# 3)  Do confusion matrix & cross validation\n"
   ]
  },
  {
   "cell_type": "code",
   "execution_count": 408,
   "id": "3a21d57d",
   "metadata": {},
   "outputs": [],
   "source": [
    "from sklearn.metrics import confusion_matrix"
   ]
  },
  {
   "cell_type": "code",
   "execution_count": 409,
   "id": "05e3095b",
   "metadata": {},
   "outputs": [],
   "source": [
    "from sklearn.metrics import classification_report"
   ]
  },
  {
   "cell_type": "code",
   "execution_count": 410,
   "id": "9fbff9cb",
   "metadata": {},
   "outputs": [
    {
     "data": {
      "text/plain": [
       "array([[239,   7],\n",
       "       [ 34,  14]], dtype=int64)"
      ]
     },
     "execution_count": 410,
     "metadata": {},
     "output_type": "execute_result"
    }
   ],
   "source": [
    "confusion_matrix(y_test,prediction2)\n"
   ]
  },
  {
   "cell_type": "code",
   "execution_count": 411,
   "id": "56d82989",
   "metadata": {},
   "outputs": [
    {
     "data": {
      "text/plain": [
       "(239, 7, 34, 14)"
      ]
     },
     "execution_count": 411,
     "metadata": {},
     "output_type": "execute_result"
    }
   ],
   "source": [
    "tn, fp, fn, tp = confusion_matrix(y_test,prediction2).ravel()\n",
    "(tn, fp, fn, tp)\n"
   ]
  },
  {
   "cell_type": "code",
   "execution_count": 412,
   "id": "0f36e8fd",
   "metadata": {},
   "outputs": [
    {
     "name": "stdout",
     "output_type": "stream",
     "text": [
      "Classification report : \n",
      "               precision    recall  f1-score   support\n",
      "\n",
      "           0       0.88      0.97      0.92       246\n",
      "           1       0.67      0.29      0.41        48\n",
      "\n",
      "    accuracy                           0.86       294\n",
      "   macro avg       0.77      0.63      0.66       294\n",
      "weighted avg       0.84      0.86      0.84       294\n",
      "\n"
     ]
    }
   ],
   "source": [
    "matrix = classification_report(y_test,prediction2)\n",
    "print('Classification report : \\n',matrix)\n"
   ]
  },
  {
   "cell_type": "code",
   "execution_count": 413,
   "id": "dab14c07",
   "metadata": {},
   "outputs": [
    {
     "data": {
      "text/plain": [
       "<AxesSubplot:>"
      ]
     },
     "execution_count": 413,
     "metadata": {},
     "output_type": "execute_result"
    },
    {
     "data": {
      "image/png": "[encoded data removed]",
      "text/plain": [
       "<Figure size 1296x1152 with 2 Axes>"
      ]
     },
     "metadata": {
      "needs_background": "light"
     },
     "output_type": "display_data"
    }
   ],
   "source": [
    "import seaborn as sns\n",
    "sns.heatmap(confusion_matrix(y_test,prediction2), annot=True)"
   ]
  },
  {
   "cell_type": "code",
   "execution_count": 414,
   "id": "2f96ff4d",
   "metadata": {},
   "outputs": [],
   "source": [
    "\n",
    "from sklearn.model_selection import cross_val_score"
   ]
  },
  {
   "cell_type": "code",
   "execution_count": 415,
   "id": "79924510",
   "metadata": {},
   "outputs": [
    {
     "data": {
      "text/plain": [
       "array([0.89795918, 0.87414966, 0.86734694, 0.89115646, 0.9047619 ])"
      ]
     },
     "execution_count": 415,
     "metadata": {},
     "output_type": "execute_result"
    }
   ],
   "source": [
    "cross_val_score(LogisticRegression(),X,df.Attrition)"
   ]
  },
  {
   "cell_type": "code",
   "execution_count": 416,
   "id": "44796cc5",
   "metadata": {},
   "outputs": [
    {
     "data": {
      "text/plain": [
       "array([0.85714286, 0.85714286, 0.86734694, 0.85714286, 0.85034014])"
      ]
     },
     "execution_count": 416,
     "metadata": {},
     "output_type": "execute_result"
    }
   ],
   "source": [
    "from sklearn.ensemble import RandomForestClassifier\n",
    "cross_val_score(RandomForestClassifier(n_estimators=40),X,df.Attrition)"
   ]
  },
  {
   "cell_type": "code",
   "execution_count": 417,
   "id": "22f3c3db",
   "metadata": {},
   "outputs": [
    {
     "data": {
      "text/plain": [
       "array([0.86054422, 0.86394558, 0.87755102, 0.88095238, 0.88435374])"
      ]
     },
     "execution_count": 417,
     "metadata": {},
     "output_type": "execute_result"
    }
   ],
   "source": [
    "from sklearn.svm import SVC\n",
    "cross_val_score(SVC(),X,df.Attrition)\n"
   ]
  },
  {
   "cell_type": "code",
   "execution_count": 418,
   "id": "83692476",
   "metadata": {},
   "outputs": [
    {
     "data": {
      "text/plain": [
       "array([0.8537415 , 0.85714286, 0.83673469, 0.85034014, 0.85714286])"
      ]
     },
     "execution_count": 418,
     "metadata": {},
     "output_type": "execute_result"
    }
   ],
   "source": [
    "from sklearn.neighbors import KNeighborsClassifier\n",
    "cross_val_score(KNeighborsClassifier(),X,df.Attrition)"
   ]
  },
  {
   "cell_type": "code",
   "execution_count": 419,
   "id": "497fe9ac",
   "metadata": {},
   "outputs": [
    {
     "data": {
      "text/plain": [
       "array([0.78231293, 0.7755102 , 0.81292517, 0.76530612, 0.80272109])"
      ]
     },
     "execution_count": 419,
     "metadata": {},
     "output_type": "execute_result"
    }
   ],
   "source": [
    "from sklearn.tree import DecisionTreeClassifier\n",
    "cross_val_score(DecisionTreeClassifier(),X,df.Attrition)"
   ]
  },
  {
   "cell_type": "markdown",
   "id": "94c23790",
   "metadata": {},
   "source": [
    "# 4)   Create ROC-AUC curve\n"
   ]
  },
  {
   "cell_type": "code",
   "execution_count": 420,
   "id": "e60cdbac",
   "metadata": {},
   "outputs": [
    {
     "data": {
      "image/png": "[encoded data removed]",
      "text/plain": [
       "<Figure size 700x700 with 1 Axes>"
      ]
     },
     "metadata": {
      "needs_background": "light"
     },
     "output_type": "display_data"
    }
   ],
   "source": [
    "from sklearn.svm import SVC\n",
    "SVCClassifier=SVC(random_state=4)\n",
    "SVCClassifier.fit(X_train,y_train)\n",
    "y_pred_SVC=SVCClassifier.decision_function(X_test)\n",
    "#y_pred_logistic=LogisticRegression.decision_function(X_test)\n",
    "\n",
    "\n",
    "\n",
    "\n",
    "\n",
    "from sklearn.metrics import roc_curve , auc\n",
    "\n",
    "logistic_fpr,logistic_tpr,threshold=roc_curve(y_test,y_pred_logi)\n",
    "auc_logistic=auc(logistic_fpr,logistic_tpr)\n",
    "\n",
    "\n",
    "svm_fpr,svm_tpr,threshold=roc_curve(y_test,y_pred_SVC)\n",
    "auc_SVC=auc(svm_fpr,svm_tpr)\n",
    "\n",
    "\n",
    "plt.figure(figsize=(7,7),dpi=100)\n",
    "plt.plot(svm_fpr,svm_tpr,linestyle=\"-\",label='SVM(auc=%0.3f)'% auc_SVC)\n",
    "plt.plot(logistic_fpr,logistic_tpr,marker=\"_\",label='Logisitic(auc=%0.3f)' % auc_logistic)\n",
    "\n",
    "plt.xlabel(\"False Positive Rate-->\")\n",
    "plt.ylabel(\"True Postive Rate-->\")\n",
    "plt.title('ROC-AUC curve')\n",
    "plt.legend()\n",
    "plt.show()"
   ]
  },
  {
   "cell_type": "markdown",
   "id": "2532008b",
   "metadata": {},
   "source": [
    "# Goal 2]      Decision Tree Classification"
   ]
  },
  {
   "cell_type": "markdown",
   "id": "226ce52c",
   "metadata": {},
   "source": [
    "# 1 )    Create Model"
   ]
  },
  {
   "cell_type": "code",
   "execution_count": 421,
   "id": "bc76df96",
   "metadata": {},
   "outputs": [],
   "source": [
    "import pandas as pd\n",
    "import numpy as np\n",
    "import seaborn as sns\n",
    "import matplotlib.pyplot as plt\n",
    "\n",
    "import warnings\n",
    "warnings.filterwarnings('ignore')\n"
   ]
  },
  {
   "cell_type": "code",
   "execution_count": 422,
   "id": "822dcee3",
   "metadata": {},
   "outputs": [],
   "source": [
    "df = pd.read_csv(\"PROJECT SUPERVISED.csv\")"
   ]
  },
  {
   "cell_type": "code",
   "execution_count": 423,
   "id": "6e36f85d",
   "metadata": {},
   "outputs": [
    {
     "data": {
      "text/html": [
       "<div>\n",
       "<style scoped>\n",
       "    .dataframe tbody tr th:only-of-type {\n",
       "        vertical-align: middle;\n",
       "    }\n",
       "\n",
       "    .dataframe tbody tr th {\n",
       "        vertical-align: top;\n",
       "    }\n",
       "\n",
       "    .dataframe thead th {\n",
       "        text-align: right;\n",
       "    }\n",
       "</style>\n",
       "<table border=\"1\" class=\"dataframe\">\n",
       "  <thead>\n",
       "    <tr style=\"text-align: right;\">\n",
       "      <th></th>\n",
       "      <th>Age</th>\n",
       "      <th>Attrition</th>\n",
       "      <th>DailyRate</th>\n",
       "      <th>DistanceFromHome</th>\n",
       "      <th>Education</th>\n",
       "      <th>EnvironmentSatisfaction</th>\n",
       "      <th>HourlyRate</th>\n",
       "      <th>JobInvolvement</th>\n",
       "      <th>JobLevel</th>\n",
       "      <th>JobSatisfaction</th>\n",
       "      <th>...</th>\n",
       "      <th>JobRole_Sales Executive</th>\n",
       "      <th>JobRole_Research Scientist</th>\n",
       "      <th>JobRole_Laboratory Technician</th>\n",
       "      <th>JobRole_Manufacturing Director</th>\n",
       "      <th>JobRole_Healthcare Representative</th>\n",
       "      <th>JobRole_Manager</th>\n",
       "      <th>JobRole_Sales Representative</th>\n",
       "      <th>JobRole_Research Director</th>\n",
       "      <th>MaritalStatus_Married</th>\n",
       "      <th>MaritalStatus_Single</th>\n",
       "    </tr>\n",
       "  </thead>\n",
       "  <tbody>\n",
       "    <tr>\n",
       "      <th>0</th>\n",
       "      <td>0.446350</td>\n",
       "      <td>1</td>\n",
       "      <td>0.742527</td>\n",
       "      <td>-1.505350</td>\n",
       "      <td>-0.891688</td>\n",
       "      <td>-0.660531</td>\n",
       "      <td>1.383138</td>\n",
       "      <td>0.379672</td>\n",
       "      <td>0.112298</td>\n",
       "      <td>1.153254</td>\n",
       "      <td>...</td>\n",
       "      <td>1.873287</td>\n",
       "      <td>-0.497873</td>\n",
       "      <td>-0.462464</td>\n",
       "      <td>-0.330808</td>\n",
       "      <td>-0.312785</td>\n",
       "      <td>-0.273059</td>\n",
       "      <td>-0.244625</td>\n",
       "      <td>-0.239904</td>\n",
       "      <td>-0.918921</td>\n",
       "      <td>1.458650</td>\n",
       "    </tr>\n",
       "    <tr>\n",
       "      <th>1</th>\n",
       "      <td>1.322365</td>\n",
       "      <td>0</td>\n",
       "      <td>-1.297775</td>\n",
       "      <td>0.252002</td>\n",
       "      <td>-1.868426</td>\n",
       "      <td>0.254625</td>\n",
       "      <td>-0.240677</td>\n",
       "      <td>-1.026167</td>\n",
       "      <td>0.112298</td>\n",
       "      <td>-0.660853</td>\n",
       "      <td>...</td>\n",
       "      <td>-0.533821</td>\n",
       "      <td>2.008543</td>\n",
       "      <td>-0.462464</td>\n",
       "      <td>-0.330808</td>\n",
       "      <td>-0.312785</td>\n",
       "      <td>-0.273059</td>\n",
       "      <td>-0.244625</td>\n",
       "      <td>-0.239904</td>\n",
       "      <td>1.088232</td>\n",
       "      <td>-0.685565</td>\n",
       "    </tr>\n",
       "    <tr>\n",
       "      <th>2</th>\n",
       "      <td>0.008343</td>\n",
       "      <td>1</td>\n",
       "      <td>1.414363</td>\n",
       "      <td>-1.031607</td>\n",
       "      <td>-0.891688</td>\n",
       "      <td>1.169781</td>\n",
       "      <td>1.284725</td>\n",
       "      <td>-1.026167</td>\n",
       "      <td>-1.094180</td>\n",
       "      <td>0.246200</td>\n",
       "      <td>...</td>\n",
       "      <td>-0.533821</td>\n",
       "      <td>-0.497873</td>\n",
       "      <td>2.162331</td>\n",
       "      <td>-0.330808</td>\n",
       "      <td>-0.312785</td>\n",
       "      <td>-0.273059</td>\n",
       "      <td>-0.244625</td>\n",
       "      <td>-0.239904</td>\n",
       "      <td>-0.918921</td>\n",
       "      <td>1.458650</td>\n",
       "    </tr>\n",
       "    <tr>\n",
       "      <th>3</th>\n",
       "      <td>-0.429664</td>\n",
       "      <td>0</td>\n",
       "      <td>1.461466</td>\n",
       "      <td>-0.695482</td>\n",
       "      <td>1.061787</td>\n",
       "      <td>1.169781</td>\n",
       "      <td>-0.486709</td>\n",
       "      <td>0.379672</td>\n",
       "      <td>-1.094180</td>\n",
       "      <td>0.246200</td>\n",
       "      <td>...</td>\n",
       "      <td>-0.533821</td>\n",
       "      <td>2.008543</td>\n",
       "      <td>-0.462464</td>\n",
       "      <td>-0.330808</td>\n",
       "      <td>-0.312785</td>\n",
       "      <td>-0.273059</td>\n",
       "      <td>-0.244625</td>\n",
       "      <td>-0.239904</td>\n",
       "      <td>1.088232</td>\n",
       "      <td>-0.685565</td>\n",
       "    </tr>\n",
       "    <tr>\n",
       "      <th>4</th>\n",
       "      <td>-1.086676</td>\n",
       "      <td>0</td>\n",
       "      <td>-0.524295</td>\n",
       "      <td>-1.031607</td>\n",
       "      <td>-1.868426</td>\n",
       "      <td>-1.575686</td>\n",
       "      <td>-1.274014</td>\n",
       "      <td>0.379672</td>\n",
       "      <td>-1.094180</td>\n",
       "      <td>-0.660853</td>\n",
       "      <td>...</td>\n",
       "      <td>-0.533821</td>\n",
       "      <td>-0.497873</td>\n",
       "      <td>2.162331</td>\n",
       "      <td>-0.330808</td>\n",
       "      <td>-0.312785</td>\n",
       "      <td>-0.273059</td>\n",
       "      <td>-0.244625</td>\n",
       "      <td>-0.239904</td>\n",
       "      <td>1.088232</td>\n",
       "      <td>-0.685565</td>\n",
       "    </tr>\n",
       "  </tbody>\n",
       "</table>\n",
       "<p>5 rows × 45 columns</p>\n",
       "</div>"
      ],
      "text/plain": [
       "        Age  Attrition  DailyRate  DistanceFromHome  Education  \\\n",
       "0  0.446350          1   0.742527         -1.505350  -0.891688   \n",
       "1  1.322365          0  -1.297775          0.252002  -1.868426   \n",
       "2  0.008343          1   1.414363         -1.031607  -0.891688   \n",
       "3 -0.429664          0   1.461466         -0.695482   1.061787   \n",
       "4 -1.086676          0  -0.524295         -1.031607  -1.868426   \n",
       "\n",
       "   EnvironmentSatisfaction  HourlyRate  JobInvolvement  JobLevel  \\\n",
       "0                -0.660531    1.383138        0.379672  0.112298   \n",
       "1                 0.254625   -0.240677       -1.026167  0.112298   \n",
       "2                 1.169781    1.284725       -1.026167 -1.094180   \n",
       "3                 1.169781   -0.486709        0.379672 -1.094180   \n",
       "4                -1.575686   -1.274014        0.379672 -1.094180   \n",
       "\n",
       "   JobSatisfaction  ...  JobRole_Sales Executive  JobRole_Research Scientist  \\\n",
       "0         1.153254  ...                 1.873287                   -0.497873   \n",
       "1        -0.660853  ...                -0.533821                    2.008543   \n",
       "2         0.246200  ...                -0.533821                   -0.497873   \n",
       "3         0.246200  ...                -0.533821                    2.008543   \n",
       "4        -0.660853  ...                -0.533821                   -0.497873   \n",
       "\n",
       "   JobRole_Laboratory Technician  JobRole_Manufacturing Director  \\\n",
       "0                      -0.462464                       -0.330808   \n",
       "1                      -0.462464                       -0.330808   \n",
       "2                       2.162331                       -0.330808   \n",
       "3                      -0.462464                       -0.330808   \n",
       "4                       2.162331                       -0.330808   \n",
       "\n",
       "   JobRole_Healthcare Representative  JobRole_Manager  \\\n",
       "0                          -0.312785        -0.273059   \n",
       "1                          -0.312785        -0.273059   \n",
       "2                          -0.312785        -0.273059   \n",
       "3                          -0.312785        -0.273059   \n",
       "4                          -0.312785        -0.273059   \n",
       "\n",
       "   JobRole_Sales Representative  JobRole_Research Director  \\\n",
       "0                     -0.244625                  -0.239904   \n",
       "1                     -0.244625                  -0.239904   \n",
       "2                     -0.244625                  -0.239904   \n",
       "3                     -0.244625                  -0.239904   \n",
       "4                     -0.244625                  -0.239904   \n",
       "\n",
       "   MaritalStatus_Married  MaritalStatus_Single  \n",
       "0              -0.918921              1.458650  \n",
       "1               1.088232             -0.685565  \n",
       "2              -0.918921              1.458650  \n",
       "3               1.088232             -0.685565  \n",
       "4               1.088232             -0.685565  \n",
       "\n",
       "[5 rows x 45 columns]"
      ]
     },
     "execution_count": 423,
     "metadata": {},
     "output_type": "execute_result"
    }
   ],
   "source": [
    "df.head()"
   ]
  },
  {
   "cell_type": "code",
   "execution_count": 424,
   "id": "7e1af03b",
   "metadata": {},
   "outputs": [
    {
     "data": {
      "text/plain": [
       "Age                                  0\n",
       "Attrition                            0\n",
       "DailyRate                            0\n",
       "DistanceFromHome                     0\n",
       "Education                            0\n",
       "EnvironmentSatisfaction              0\n",
       "HourlyRate                           0\n",
       "JobInvolvement                       0\n",
       "JobLevel                             0\n",
       "JobSatisfaction                      0\n",
       "MonthlyIncome                        0\n",
       "MonthlyRate                          0\n",
       "NumCompaniesWorked                   0\n",
       "OverTime                             0\n",
       "PercentSalaryHike                    0\n",
       "PerformanceRating                    0\n",
       "RelationshipSatisfaction             0\n",
       "StockOptionLevel                     0\n",
       "TotalWorkingYears                    0\n",
       "TrainingTimesLastYear                0\n",
       "WorkLifeBalance                      0\n",
       "YearsAtCompany                       0\n",
       "YearsInCurrentRole                   0\n",
       "YearsSinceLastPromotion              0\n",
       "YearsWithCurrManager                 0\n",
       "BusinessTravel_Travel_Rarely         0\n",
       "BusinessTravel_Travel_Frequently     0\n",
       "Department_Research & Development    0\n",
       "Department_Sales                     0\n",
       "EducationField_Life Sciences         0\n",
       "EducationField_Medical               0\n",
       "EducationField_Marketing             0\n",
       "EducationField_Technical Degree      0\n",
       "EducationField_Other                 0\n",
       "Gender_Male                          0\n",
       "JobRole_Sales Executive              0\n",
       "JobRole_Research Scientist           0\n",
       "JobRole_Laboratory Technician        0\n",
       "JobRole_Manufacturing Director       0\n",
       "JobRole_Healthcare Representative    0\n",
       "JobRole_Manager                      0\n",
       "JobRole_Sales Representative         0\n",
       "JobRole_Research Director            0\n",
       "MaritalStatus_Married                0\n",
       "MaritalStatus_Single                 0\n",
       "dtype: int64"
      ]
     },
     "execution_count": 424,
     "metadata": {},
     "output_type": "execute_result"
    }
   ],
   "source": [
    "df.isna().sum()"
   ]
  },
  {
   "cell_type": "code",
   "execution_count": 425,
   "id": "7e3fb4a6",
   "metadata": {},
   "outputs": [
    {
     "data": {
      "text/plain": [
       "0    1233\n",
       "1     237\n",
       "Name: Attrition, dtype: int64"
      ]
     },
     "execution_count": 425,
     "metadata": {},
     "output_type": "execute_result"
    }
   ],
   "source": [
    "df['Attrition'].value_counts()"
   ]
  },
  {
   "cell_type": "code",
   "execution_count": 426,
   "id": "b632b8b1",
   "metadata": {},
   "outputs": [],
   "source": [
    "X = df.drop('Attrition', axis=1)"
   ]
  },
  {
   "cell_type": "code",
   "execution_count": 427,
   "id": "6e177432",
   "metadata": {},
   "outputs": [],
   "source": [
    "y=df['Attrition']"
   ]
  },
  {
   "cell_type": "code",
   "execution_count": 428,
   "id": "45e6e327",
   "metadata": {},
   "outputs": [
    {
     "data": {
      "text/html": [
       "<div>\n",
       "<style scoped>\n",
       "    .dataframe tbody tr th:only-of-type {\n",
       "        vertical-align: middle;\n",
       "    }\n",
       "\n",
       "    .dataframe tbody tr th {\n",
       "        vertical-align: top;\n",
       "    }\n",
       "\n",
       "    .dataframe thead th {\n",
       "        text-align: right;\n",
       "    }\n",
       "</style>\n",
       "<table border=\"1\" class=\"dataframe\">\n",
       "  <thead>\n",
       "    <tr style=\"text-align: right;\">\n",
       "      <th></th>\n",
       "      <th>Age</th>\n",
       "      <th>DailyRate</th>\n",
       "      <th>DistanceFromHome</th>\n",
       "      <th>Education</th>\n",
       "      <th>EnvironmentSatisfaction</th>\n",
       "      <th>HourlyRate</th>\n",
       "      <th>JobInvolvement</th>\n",
       "      <th>JobLevel</th>\n",
       "      <th>JobSatisfaction</th>\n",
       "      <th>MonthlyIncome</th>\n",
       "      <th>...</th>\n",
       "      <th>JobRole_Sales Executive</th>\n",
       "      <th>JobRole_Research Scientist</th>\n",
       "      <th>JobRole_Laboratory Technician</th>\n",
       "      <th>JobRole_Manufacturing Director</th>\n",
       "      <th>JobRole_Healthcare Representative</th>\n",
       "      <th>JobRole_Manager</th>\n",
       "      <th>JobRole_Sales Representative</th>\n",
       "      <th>JobRole_Research Director</th>\n",
       "      <th>MaritalStatus_Married</th>\n",
       "      <th>MaritalStatus_Single</th>\n",
       "    </tr>\n",
       "  </thead>\n",
       "  <tbody>\n",
       "    <tr>\n",
       "      <th>0</th>\n",
       "      <td>0.446350</td>\n",
       "      <td>0.742527</td>\n",
       "      <td>-1.505350</td>\n",
       "      <td>-0.891688</td>\n",
       "      <td>-0.660531</td>\n",
       "      <td>1.383138</td>\n",
       "      <td>0.379672</td>\n",
       "      <td>0.112298</td>\n",
       "      <td>1.153254</td>\n",
       "      <td>0.219493</td>\n",
       "      <td>...</td>\n",
       "      <td>1.873287</td>\n",
       "      <td>-0.497873</td>\n",
       "      <td>-0.462464</td>\n",
       "      <td>-0.330808</td>\n",
       "      <td>-0.312785</td>\n",
       "      <td>-0.273059</td>\n",
       "      <td>-0.244625</td>\n",
       "      <td>-0.239904</td>\n",
       "      <td>-0.918921</td>\n",
       "      <td>1.458650</td>\n",
       "    </tr>\n",
       "    <tr>\n",
       "      <th>1</th>\n",
       "      <td>1.322365</td>\n",
       "      <td>-1.297775</td>\n",
       "      <td>0.252002</td>\n",
       "      <td>-1.868426</td>\n",
       "      <td>0.254625</td>\n",
       "      <td>-0.240677</td>\n",
       "      <td>-1.026167</td>\n",
       "      <td>0.112298</td>\n",
       "      <td>-0.660853</td>\n",
       "      <td>-0.014600</td>\n",
       "      <td>...</td>\n",
       "      <td>-0.533821</td>\n",
       "      <td>2.008543</td>\n",
       "      <td>-0.462464</td>\n",
       "      <td>-0.330808</td>\n",
       "      <td>-0.312785</td>\n",
       "      <td>-0.273059</td>\n",
       "      <td>-0.244625</td>\n",
       "      <td>-0.239904</td>\n",
       "      <td>1.088232</td>\n",
       "      <td>-0.685565</td>\n",
       "    </tr>\n",
       "    <tr>\n",
       "      <th>2</th>\n",
       "      <td>0.008343</td>\n",
       "      <td>1.414363</td>\n",
       "      <td>-1.031607</td>\n",
       "      <td>-0.891688</td>\n",
       "      <td>1.169781</td>\n",
       "      <td>1.284725</td>\n",
       "      <td>-1.026167</td>\n",
       "      <td>-1.094180</td>\n",
       "      <td>0.246200</td>\n",
       "      <td>-1.366318</td>\n",
       "      <td>...</td>\n",
       "      <td>-0.533821</td>\n",
       "      <td>-0.497873</td>\n",
       "      <td>2.162331</td>\n",
       "      <td>-0.330808</td>\n",
       "      <td>-0.312785</td>\n",
       "      <td>-0.273059</td>\n",
       "      <td>-0.244625</td>\n",
       "      <td>-0.239904</td>\n",
       "      <td>-0.918921</td>\n",
       "      <td>1.458650</td>\n",
       "    </tr>\n",
       "    <tr>\n",
       "      <th>3</th>\n",
       "      <td>-0.429664</td>\n",
       "      <td>1.461466</td>\n",
       "      <td>-0.695482</td>\n",
       "      <td>1.061787</td>\n",
       "      <td>1.169781</td>\n",
       "      <td>-0.486709</td>\n",
       "      <td>0.379672</td>\n",
       "      <td>-1.094180</td>\n",
       "      <td>0.246200</td>\n",
       "      <td>-0.868626</td>\n",
       "      <td>...</td>\n",
       "      <td>-0.533821</td>\n",
       "      <td>2.008543</td>\n",
       "      <td>-0.462464</td>\n",
       "      <td>-0.330808</td>\n",
       "      <td>-0.312785</td>\n",
       "      <td>-0.273059</td>\n",
       "      <td>-0.244625</td>\n",
       "      <td>-0.239904</td>\n",
       "      <td>1.088232</td>\n",
       "      <td>-0.685565</td>\n",
       "    </tr>\n",
       "    <tr>\n",
       "      <th>4</th>\n",
       "      <td>-1.086676</td>\n",
       "      <td>-0.524295</td>\n",
       "      <td>-1.031607</td>\n",
       "      <td>-1.868426</td>\n",
       "      <td>-1.575686</td>\n",
       "      <td>-1.274014</td>\n",
       "      <td>0.379672</td>\n",
       "      <td>-1.094180</td>\n",
       "      <td>-0.660853</td>\n",
       "      <td>-0.604032</td>\n",
       "      <td>...</td>\n",
       "      <td>-0.533821</td>\n",
       "      <td>-0.497873</td>\n",
       "      <td>2.162331</td>\n",
       "      <td>-0.330808</td>\n",
       "      <td>-0.312785</td>\n",
       "      <td>-0.273059</td>\n",
       "      <td>-0.244625</td>\n",
       "      <td>-0.239904</td>\n",
       "      <td>1.088232</td>\n",
       "      <td>-0.685565</td>\n",
       "    </tr>\n",
       "    <tr>\n",
       "      <th>...</th>\n",
       "      <td>...</td>\n",
       "      <td>...</td>\n",
       "      <td>...</td>\n",
       "      <td>...</td>\n",
       "      <td>...</td>\n",
       "      <td>...</td>\n",
       "      <td>...</td>\n",
       "      <td>...</td>\n",
       "      <td>...</td>\n",
       "      <td>...</td>\n",
       "      <td>...</td>\n",
       "      <td>...</td>\n",
       "      <td>...</td>\n",
       "      <td>...</td>\n",
       "      <td>...</td>\n",
       "      <td>...</td>\n",
       "      <td>...</td>\n",
       "      <td>...</td>\n",
       "      <td>...</td>\n",
       "      <td>...</td>\n",
       "      <td>...</td>\n",
       "    </tr>\n",
       "    <tr>\n",
       "      <th>1465</th>\n",
       "      <td>-0.101159</td>\n",
       "      <td>0.202082</td>\n",
       "      <td>1.397995</td>\n",
       "      <td>-0.891688</td>\n",
       "      <td>0.254625</td>\n",
       "      <td>-1.224807</td>\n",
       "      <td>1.785511</td>\n",
       "      <td>0.112298</td>\n",
       "      <td>1.153254</td>\n",
       "      <td>-1.054549</td>\n",
       "      <td>...</td>\n",
       "      <td>-0.533821</td>\n",
       "      <td>-0.497873</td>\n",
       "      <td>2.162331</td>\n",
       "      <td>-0.330808</td>\n",
       "      <td>-0.312785</td>\n",
       "      <td>-0.273059</td>\n",
       "      <td>-0.244625</td>\n",
       "      <td>-0.239904</td>\n",
       "      <td>1.088232</td>\n",
       "      <td>-0.685565</td>\n",
       "    </tr>\n",
       "    <tr>\n",
       "      <th>1466</th>\n",
       "      <td>0.227347</td>\n",
       "      <td>-0.469754</td>\n",
       "      <td>-0.041631</td>\n",
       "      <td>-1.868426</td>\n",
       "      <td>1.169781</td>\n",
       "      <td>-1.175601</td>\n",
       "      <td>-1.026167</td>\n",
       "      <td>0.968307</td>\n",
       "      <td>-1.567907</td>\n",
       "      <td>0.989009</td>\n",
       "      <td>...</td>\n",
       "      <td>-0.533821</td>\n",
       "      <td>-0.497873</td>\n",
       "      <td>-0.462464</td>\n",
       "      <td>-0.330808</td>\n",
       "      <td>3.197088</td>\n",
       "      <td>-0.273059</td>\n",
       "      <td>-0.244625</td>\n",
       "      <td>-0.239904</td>\n",
       "      <td>1.088232</td>\n",
       "      <td>-0.685565</td>\n",
       "    </tr>\n",
       "    <tr>\n",
       "      <th>1467</th>\n",
       "      <td>-1.086676</td>\n",
       "      <td>-1.605183</td>\n",
       "      <td>-0.434763</td>\n",
       "      <td>0.085049</td>\n",
       "      <td>-0.660531</td>\n",
       "      <td>1.038693</td>\n",
       "      <td>1.785511</td>\n",
       "      <td>0.112298</td>\n",
       "      <td>-0.660853</td>\n",
       "      <td>0.256468</td>\n",
       "      <td>...</td>\n",
       "      <td>-0.533821</td>\n",
       "      <td>-0.497873</td>\n",
       "      <td>-0.462464</td>\n",
       "      <td>3.022901</td>\n",
       "      <td>-0.312785</td>\n",
       "      <td>-0.273059</td>\n",
       "      <td>-0.244625</td>\n",
       "      <td>-0.239904</td>\n",
       "      <td>1.088232</td>\n",
       "      <td>-0.685565</td>\n",
       "    </tr>\n",
       "    <tr>\n",
       "      <th>1468</th>\n",
       "      <td>1.322365</td>\n",
       "      <td>0.546677</td>\n",
       "      <td>-1.031607</td>\n",
       "      <td>0.085049</td>\n",
       "      <td>1.169781</td>\n",
       "      <td>-0.142264</td>\n",
       "      <td>-1.026167</td>\n",
       "      <td>0.112298</td>\n",
       "      <td>-0.660853</td>\n",
       "      <td>0.059833</td>\n",
       "      <td>...</td>\n",
       "      <td>1.873287</td>\n",
       "      <td>-0.497873</td>\n",
       "      <td>-0.462464</td>\n",
       "      <td>-0.330808</td>\n",
       "      <td>-0.312785</td>\n",
       "      <td>-0.273059</td>\n",
       "      <td>-0.244625</td>\n",
       "      <td>-0.239904</td>\n",
       "      <td>1.088232</td>\n",
       "      <td>-0.685565</td>\n",
       "    </tr>\n",
       "    <tr>\n",
       "      <th>1469</th>\n",
       "      <td>-0.320163</td>\n",
       "      <td>-0.432568</td>\n",
       "      <td>0.252002</td>\n",
       "      <td>0.085049</td>\n",
       "      <td>-0.660531</td>\n",
       "      <td>0.792660</td>\n",
       "      <td>1.785511</td>\n",
       "      <td>0.112298</td>\n",
       "      <td>0.246200</td>\n",
       "      <td>-0.244330</td>\n",
       "      <td>...</td>\n",
       "      <td>-0.533821</td>\n",
       "      <td>-0.497873</td>\n",
       "      <td>2.162331</td>\n",
       "      <td>-0.330808</td>\n",
       "      <td>-0.312785</td>\n",
       "      <td>-0.273059</td>\n",
       "      <td>-0.244625</td>\n",
       "      <td>-0.239904</td>\n",
       "      <td>1.088232</td>\n",
       "      <td>-0.685565</td>\n",
       "    </tr>\n",
       "  </tbody>\n",
       "</table>\n",
       "<p>1470 rows × 44 columns</p>\n",
       "</div>"
      ],
      "text/plain": [
       "           Age  DailyRate  DistanceFromHome  Education  \\\n",
       "0     0.446350   0.742527         -1.505350  -0.891688   \n",
       "1     1.322365  -1.297775          0.252002  -1.868426   \n",
       "2     0.008343   1.414363         -1.031607  -0.891688   \n",
       "3    -0.429664   1.461466         -0.695482   1.061787   \n",
       "4    -1.086676  -0.524295         -1.031607  -1.868426   \n",
       "...        ...        ...               ...        ...   \n",
       "1465 -0.101159   0.202082          1.397995  -0.891688   \n",
       "1466  0.227347  -0.469754         -0.041631  -1.868426   \n",
       "1467 -1.086676  -1.605183         -0.434763   0.085049   \n",
       "1468  1.322365   0.546677         -1.031607   0.085049   \n",
       "1469 -0.320163  -0.432568          0.252002   0.085049   \n",
       "\n",
       "      EnvironmentSatisfaction  HourlyRate  JobInvolvement  JobLevel  \\\n",
       "0                   -0.660531    1.383138        0.379672  0.112298   \n",
       "1                    0.254625   -0.240677       -1.026167  0.112298   \n",
       "2                    1.169781    1.284725       -1.026167 -1.094180   \n",
       "3                    1.169781   -0.486709        0.379672 -1.094180   \n",
       "4                   -1.575686   -1.274014        0.379672 -1.094180   \n",
       "...                       ...         ...             ...       ...   \n",
       "1465                 0.254625   -1.224807        1.785511  0.112298   \n",
       "1466                 1.169781   -1.175601       -1.026167  0.968307   \n",
       "1467                -0.660531    1.038693        1.785511  0.112298   \n",
       "1468                 1.169781   -0.142264       -1.026167  0.112298   \n",
       "1469                -0.660531    0.792660        1.785511  0.112298   \n",
       "\n",
       "      JobSatisfaction  MonthlyIncome  ...  JobRole_Sales Executive  \\\n",
       "0            1.153254       0.219493  ...                 1.873287   \n",
       "1           -0.660853      -0.014600  ...                -0.533821   \n",
       "2            0.246200      -1.366318  ...                -0.533821   \n",
       "3            0.246200      -0.868626  ...                -0.533821   \n",
       "4           -0.660853      -0.604032  ...                -0.533821   \n",
       "...               ...            ...  ...                      ...   \n",
       "1465         1.153254      -1.054549  ...                -0.533821   \n",
       "1466        -1.567907       0.989009  ...                -0.533821   \n",
       "1467        -0.660853       0.256468  ...                -0.533821   \n",
       "1468        -0.660853       0.059833  ...                 1.873287   \n",
       "1469         0.246200      -0.244330  ...                -0.533821   \n",
       "\n",
       "      JobRole_Research Scientist  JobRole_Laboratory Technician  \\\n",
       "0                      -0.497873                      -0.462464   \n",
       "1                       2.008543                      -0.462464   \n",
       "2                      -0.497873                       2.162331   \n",
       "3                       2.008543                      -0.462464   \n",
       "4                      -0.497873                       2.162331   \n",
       "...                          ...                            ...   \n",
       "1465                   -0.497873                       2.162331   \n",
       "1466                   -0.497873                      -0.462464   \n",
       "1467                   -0.497873                      -0.462464   \n",
       "1468                   -0.497873                      -0.462464   \n",
       "1469                   -0.497873                       2.162331   \n",
       "\n",
       "      JobRole_Manufacturing Director  JobRole_Healthcare Representative  \\\n",
       "0                          -0.330808                          -0.312785   \n",
       "1                          -0.330808                          -0.312785   \n",
       "2                          -0.330808                          -0.312785   \n",
       "3                          -0.330808                          -0.312785   \n",
       "4                          -0.330808                          -0.312785   \n",
       "...                              ...                                ...   \n",
       "1465                       -0.330808                          -0.312785   \n",
       "1466                       -0.330808                           3.197088   \n",
       "1467                        3.022901                          -0.312785   \n",
       "1468                       -0.330808                          -0.312785   \n",
       "1469                       -0.330808                          -0.312785   \n",
       "\n",
       "      JobRole_Manager  JobRole_Sales Representative  \\\n",
       "0           -0.273059                     -0.244625   \n",
       "1           -0.273059                     -0.244625   \n",
       "2           -0.273059                     -0.244625   \n",
       "3           -0.273059                     -0.244625   \n",
       "4           -0.273059                     -0.244625   \n",
       "...               ...                           ...   \n",
       "1465        -0.273059                     -0.244625   \n",
       "1466        -0.273059                     -0.244625   \n",
       "1467        -0.273059                     -0.244625   \n",
       "1468        -0.273059                     -0.244625   \n",
       "1469        -0.273059                     -0.244625   \n",
       "\n",
       "      JobRole_Research Director  MaritalStatus_Married  MaritalStatus_Single  \n",
       "0                     -0.239904              -0.918921              1.458650  \n",
       "1                     -0.239904               1.088232             -0.685565  \n",
       "2                     -0.239904              -0.918921              1.458650  \n",
       "3                     -0.239904               1.088232             -0.685565  \n",
       "4                     -0.239904               1.088232             -0.685565  \n",
       "...                         ...                    ...                   ...  \n",
       "1465                  -0.239904               1.088232             -0.685565  \n",
       "1466                  -0.239904               1.088232             -0.685565  \n",
       "1467                  -0.239904               1.088232             -0.685565  \n",
       "1468                  -0.239904               1.088232             -0.685565  \n",
       "1469                  -0.239904               1.088232             -0.685565  \n",
       "\n",
       "[1470 rows x 44 columns]"
      ]
     },
     "execution_count": 428,
     "metadata": {},
     "output_type": "execute_result"
    }
   ],
   "source": [
    "X"
   ]
  },
  {
   "cell_type": "code",
   "execution_count": 429,
   "id": "d9fbc28c",
   "metadata": {},
   "outputs": [
    {
     "data": {
      "text/plain": [
       "0       1\n",
       "1       0\n",
       "2       1\n",
       "3       0\n",
       "4       0\n",
       "       ..\n",
       "1465    0\n",
       "1466    0\n",
       "1467    0\n",
       "1468    0\n",
       "1469    0\n",
       "Name: Attrition, Length: 1470, dtype: int64"
      ]
     },
     "execution_count": 429,
     "metadata": {},
     "output_type": "execute_result"
    }
   ],
   "source": [
    "y"
   ]
  },
  {
   "cell_type": "code",
   "execution_count": 430,
   "id": "7e127b84",
   "metadata": {},
   "outputs": [],
   "source": [
    "from sklearn.model_selection import train_test_split\n",
    "X_train,X_test,y_train,y_test = train_test_split(X,y,test_size = 0.2,random_state=100)"
   ]
  },
  {
   "cell_type": "code",
   "execution_count": 431,
   "id": "37fb6381",
   "metadata": {},
   "outputs": [],
   "source": [
    "# Create Decision Tree classifier object\n",
    "model = DecisionTreeClassifier(criterion=\"entropy\", max_depth=3)\n",
    "# Train Decision Tree Classifier\n",
    "model = model.fit(X_train,y_train)\n",
    "#Predict the response for test dataset\n",
    "prediction= model.predict(X_test)\n",
    "y_pred_descision = model.fit(X_train, y_train).predict(X_test)\n"
   ]
  },
  {
   "cell_type": "code",
   "execution_count": 432,
   "id": "2b88d1e2",
   "metadata": {},
   "outputs": [
    {
     "name": "stdout",
     "output_type": "stream",
     "text": [
      "Accuracy is  0.8469387755102041\n"
     ]
    }
   ],
   "source": [
    "from sklearn.metrics import accuracy_score\n",
    "print(\"Accuracy is \",accuracy_score(y_test,prediction))"
   ]
  },
  {
   "cell_type": "markdown",
   "id": "f023139e",
   "metadata": {},
   "source": [
    "# 2 ) Apply bagging & boosting\n"
   ]
  },
  {
   "cell_type": "markdown",
   "id": "20f92825",
   "metadata": {},
   "source": [
    "# Goal6)Ensemble Techniques on model"
   ]
  },
  {
   "cell_type": "code",
   "execution_count": 433,
   "id": "2778da3c",
   "metadata": {},
   "outputs": [
    {
     "data": {
      "text/plain": [
       "0.9991496598639455"
      ]
     },
     "execution_count": 433,
     "metadata": {},
     "output_type": "execute_result"
    }
   ],
   "source": [
    "# Define a bagging classifier\n",
    "from sklearn.ensemble import BaggingClassifier\n",
    "\n",
    "model = BaggingClassifier(base_estimator=DecisionTreeClassifier(),n_estimators = 100,\n",
    "                          max_samples=0.8,oob_score=True,random_state=0)\n",
    "model.fit(X_train, y_train)\n",
    "\n",
    "#accuracy score--->training set\n",
    "#model.oob_score_\n",
    "\n",
    "model.score(X_train,y_train)"
   ]
  },
  {
   "cell_type": "code",
   "execution_count": 434,
   "id": "56effff8",
   "metadata": {},
   "outputs": [
    {
     "name": "stdout",
     "output_type": "stream",
     "text": [
      "The accuracy of the GradientBoostingClassifier is 0.8605442176870748\n"
     ]
    }
   ],
   "source": [
    "model=GradientBoostingClassifier()\n",
    "model.fit(X_train,y_train)\n",
    "prediction=model.predict(X_test)\n",
    "print('The accuracy of the GradientBoostingClassifier is',metrics.accuracy_score(prediction,y_test))"
   ]
  },
  {
   "cell_type": "code",
   "execution_count": 435,
   "id": "14eeae38",
   "metadata": {},
   "outputs": [
    {
     "name": "stdout",
     "output_type": "stream",
     "text": [
      "Accuracy:86.05%\n"
     ]
    }
   ],
   "source": [
    "accuracy=accuracy_score(y_test,prediction)\n",
    "print(\"Accuracy:%.2f%%\" %(accuracy *100.0))"
   ]
  },
  {
   "cell_type": "code",
   "execution_count": 436,
   "id": "779b86d8",
   "metadata": {},
   "outputs": [
    {
     "name": "stdout",
     "output_type": "stream",
     "text": [
      "The accuracy of the XGBClassifier is 0.8673469387755102\n"
     ]
    }
   ],
   "source": [
    "model=XGBClassifier()\n",
    "model.fit(X_train,y_train)\n",
    "prediction10=model.predict(X_test)\n",
    "print('The accuracy of the XGBClassifier is',metrics.accuracy_score(prediction10,y_test))"
   ]
  },
  {
   "cell_type": "code",
   "execution_count": 437,
   "id": "e8261a67",
   "metadata": {},
   "outputs": [
    {
     "name": "stdout",
     "output_type": "stream",
     "text": [
      "Accuracy:86.73%\n"
     ]
    }
   ],
   "source": [
    "accuracy=accuracy_score(y_test,prediction10)\n",
    "print(\"Accuracy:%.2f%%\" %(accuracy *100.0))"
   ]
  },
  {
   "cell_type": "code",
   "execution_count": 438,
   "id": "5e529b3b",
   "metadata": {},
   "outputs": [
    {
     "data": {
      "image/png": "[encoded data removed]",
      "text/plain": [
       "<Figure size 1440x1440 with 1 Axes>"
      ]
     },
     "metadata": {
      "needs_background": "light"
     },
     "output_type": "display_data"
    }
   ],
   "source": [
    "from xgboost import plot_importance\n",
    "from matplotlib import pyplot\n",
    "from matplotlib import rcParams\n",
    "rcParams['figure.figsize']=20,20\n",
    "plot_importance(model)\n",
    "pyplot.show()\n"
   ]
  },
  {
   "cell_type": "markdown",
   "id": "2efb1cca",
   "metadata": {},
   "source": [
    "# 3)Do confusion matrix & cross validation"
   ]
  },
  {
   "cell_type": "code",
   "execution_count": 439,
   "id": "47bc0979",
   "metadata": {},
   "outputs": [],
   "source": [
    "from sklearn.metrics import confusion_matrix\n",
    "from sklearn.metrics import classification_report"
   ]
  },
  {
   "cell_type": "code",
   "execution_count": 440,
   "id": "6d8694c5",
   "metadata": {},
   "outputs": [
    {
     "data": {
      "text/plain": [
       "array([[241,   6],\n",
       "       [ 33,  14]], dtype=int64)"
      ]
     },
     "execution_count": 440,
     "metadata": {},
     "output_type": "execute_result"
    }
   ],
   "source": [
    "confusion_matrix(y_test,prediction10)"
   ]
  },
  {
   "cell_type": "code",
   "execution_count": 441,
   "id": "6f28b309",
   "metadata": {},
   "outputs": [
    {
     "data": {
      "text/plain": [
       "(243, 4, 37, 10)"
      ]
     },
     "execution_count": 441,
     "metadata": {},
     "output_type": "execute_result"
    }
   ],
   "source": [
    "tn, fp, fn, tp= confusion_matrix(y_test,prediction).ravel()\n",
    "(tn, fp, fn, tp)\n"
   ]
  },
  {
   "cell_type": "code",
   "execution_count": 442,
   "id": "715c2aca",
   "metadata": {},
   "outputs": [
    {
     "name": "stdout",
     "output_type": "stream",
     "text": [
      "Classification report : \n",
      "               precision    recall  f1-score   support\n",
      "\n",
      "           0       0.88      0.98      0.93       247\n",
      "           1       0.70      0.30      0.42        47\n",
      "\n",
      "    accuracy                           0.87       294\n",
      "   macro avg       0.79      0.64      0.67       294\n",
      "weighted avg       0.85      0.87      0.84       294\n",
      "\n"
     ]
    }
   ],
   "source": [
    "matrix = classification_report(y_test,prediction10)\n",
    "print('Classification report : \\n',matrix)\n"
   ]
  },
  {
   "cell_type": "code",
   "execution_count": 443,
   "id": "f57fb837",
   "metadata": {},
   "outputs": [
    {
     "data": {
      "text/plain": [
       "<AxesSubplot:>"
      ]
     },
     "execution_count": 443,
     "metadata": {},
     "output_type": "execute_result"
    },
    {
     "data": {
      "image/png": "[encoded data removed]",
      "text/plain": [
       "<Figure size 1440x1440 with 2 Axes>"
      ]
     },
     "metadata": {
      "needs_background": "light"
     },
     "output_type": "display_data"
    }
   ],
   "source": [
    "import seaborn as sns\n",
    "sns.heatmap(confusion_matrix(y_test,prediction10), annot=True)"
   ]
  },
  {
   "cell_type": "code",
   "execution_count": 444,
   "id": "a82c887d",
   "metadata": {},
   "outputs": [],
   "source": [
    "from sklearn.model_selection import cross_val_score"
   ]
  },
  {
   "cell_type": "code",
   "execution_count": 445,
   "id": "a3f39c12",
   "metadata": {},
   "outputs": [
    {
     "data": {
      "text/plain": [
       "array([0.79251701, 0.77891156, 0.80952381, 0.74829932, 0.80952381])"
      ]
     },
     "execution_count": 445,
     "metadata": {},
     "output_type": "execute_result"
    }
   ],
   "source": [
    "cross_val_score(DecisionTreeClassifier(),X,df.Attrition)"
   ]
  },
  {
   "cell_type": "code",
   "execution_count": 446,
   "id": "a8692d6a",
   "metadata": {},
   "outputs": [
    {
     "data": {
      "text/plain": [
       "array([0.80272109, 0.78231293, 0.80272109, 0.76530612, 0.80272109])"
      ]
     },
     "execution_count": 446,
     "metadata": {},
     "output_type": "execute_result"
    }
   ],
   "source": [
    "cross_val_score(DecisionTreeClassifier(),X,df.Attrition)\n"
   ]
  },
  {
   "cell_type": "code",
   "execution_count": 447,
   "id": "776cc057",
   "metadata": {},
   "outputs": [
    {
     "data": {
      "text/plain": [
       "array([0.8537415 , 0.85714286, 0.83673469, 0.85034014, 0.85714286])"
      ]
     },
     "execution_count": 447,
     "metadata": {},
     "output_type": "execute_result"
    }
   ],
   "source": [
    "from sklearn.neighbors import KNeighborsClassifier\n",
    "cross_val_score(KNeighborsClassifier(),X,df.Attrition)"
   ]
  },
  {
   "cell_type": "code",
   "execution_count": 448,
   "id": "6ffbe39f",
   "metadata": {},
   "outputs": [
    {
     "data": {
      "text/plain": [
       "array([0.85034014, 0.8537415 , 0.8537415 , 0.85714286, 0.85714286])"
      ]
     },
     "execution_count": 448,
     "metadata": {},
     "output_type": "execute_result"
    }
   ],
   "source": [
    "from sklearn.ensemble import RandomForestClassifier\n",
    "cross_val_score(RandomForestClassifier(n_estimators=40),X,df.Attrition)"
   ]
  },
  {
   "cell_type": "code",
   "execution_count": 449,
   "id": "57fb6e33",
   "metadata": {},
   "outputs": [
    {
     "data": {
      "text/plain": [
       "array([0.86054422, 0.86394558, 0.87755102, 0.88095238, 0.88435374])"
      ]
     },
     "execution_count": 449,
     "metadata": {},
     "output_type": "execute_result"
    }
   ],
   "source": [
    "from sklearn.svm import SVC\n",
    "cross_val_score(SVC(),X,df.Attrition)\n"
   ]
  },
  {
   "cell_type": "markdown",
   "id": "dcf87d93",
   "metadata": {},
   "source": [
    "# 4)Create ROC-AUC curve"
   ]
  },
  {
   "cell_type": "code",
   "execution_count": 450,
   "id": "9ec80528",
   "metadata": {},
   "outputs": [
    {
     "data": {
      "image/png": "[encoded data removed]",
      "text/plain": [
       "<Figure size 700x600 with 1 Axes>"
      ]
     },
     "metadata": {
      "needs_background": "light"
     },
     "output_type": "display_data"
    }
   ],
   "source": [
    "from sklearn.svm import SVC\n",
    "SVCClassifier=SVC(random_state=2)\n",
    "SVCClassifier.fit(X_train,y_train)\n",
    "y_pred_SVC=SVCClassifier.decision_function(X_test)\n",
    "#y_pred_logistic=LogisticRegression.decision_function(X_test)\n",
    "\n",
    "\n",
    "\n",
    "\n",
    "\n",
    "from sklearn.metrics import roc_curve , auc\n",
    "\n",
    "logistic_fpr,logistic_tpr,threshold=roc_curve(y_test,y_pred_descision)\n",
    "auc_logistic=auc(logistic_fpr,logistic_tpr)\n",
    "\n",
    "\n",
    "svm_fpr,svm_tpr,threshold=roc_curve(y_test,y_pred_SVC)\n",
    "auc_SVC=auc(svm_fpr,svm_tpr)\n",
    "\n",
    "\n",
    "plt.figure(figsize=(7,6),dpi=100)\n",
    "plt.plot(svm_fpr,svm_tpr,linestyle=\"-\",label='SVM(auc=%0.3f)'% auc_SVC)\n",
    "plt.plot(logistic_fpr,logistic_tpr,marker=\"_\",label='Logisitic(auc=%0.3f)' % auc_logistic)\n",
    "\n",
    "plt.xlabel(\"False Positive Rate-->\")\n",
    "plt.ylabel(\"True Postive Rate-->\")\n",
    "plt.title('ROC-AUC curve')\n",
    "plt.legend()\n",
    "plt.show()"
   ]
  },
  {
   "cell_type": "markdown",
   "id": "e8f72077",
   "metadata": {},
   "source": [
    "# Goal 3]   KNN Algorithm\n"
   ]
  },
  {
   "cell_type": "markdown",
   "id": "6370b7d4",
   "metadata": {},
   "source": [
    "# 1 )Create Model\n"
   ]
  },
  {
   "cell_type": "code",
   "execution_count": 451,
   "id": "74142400",
   "metadata": {},
   "outputs": [],
   "source": [
    "import pandas as pd\n",
    "import numpy as np\n",
    "import seaborn as sns\n",
    "import matplotlib.pyplot as plt\n",
    "\n",
    "import warnings\n",
    "warnings.filterwarnings('ignore')\n"
   ]
  },
  {
   "cell_type": "code",
   "execution_count": 452,
   "id": "bcae15f9",
   "metadata": {},
   "outputs": [],
   "source": [
    "df = pd.read_csv(\"PROJECT SUPERVISED.csv\")"
   ]
  },
  {
   "cell_type": "code",
   "execution_count": 453,
   "id": "e4bdbd4b",
   "metadata": {},
   "outputs": [
    {
     "data": {
      "text/html": [
       "<div>\n",
       "<style scoped>\n",
       "    .dataframe tbody tr th:only-of-type {\n",
       "        vertical-align: middle;\n",
       "    }\n",
       "\n",
       "    .dataframe tbody tr th {\n",
       "        vertical-align: top;\n",
       "    }\n",
       "\n",
       "    .dataframe thead th {\n",
       "        text-align: right;\n",
       "    }\n",
       "</style>\n",
       "<table border=\"1\" class=\"dataframe\">\n",
       "  <thead>\n",
       "    <tr style=\"text-align: right;\">\n",
       "      <th></th>\n",
       "      <th>Age</th>\n",
       "      <th>Attrition</th>\n",
       "      <th>DailyRate</th>\n",
       "      <th>DistanceFromHome</th>\n",
       "      <th>Education</th>\n",
       "      <th>EnvironmentSatisfaction</th>\n",
       "      <th>HourlyRate</th>\n",
       "      <th>JobInvolvement</th>\n",
       "      <th>JobLevel</th>\n",
       "      <th>JobSatisfaction</th>\n",
       "      <th>...</th>\n",
       "      <th>JobRole_Sales Executive</th>\n",
       "      <th>JobRole_Research Scientist</th>\n",
       "      <th>JobRole_Laboratory Technician</th>\n",
       "      <th>JobRole_Manufacturing Director</th>\n",
       "      <th>JobRole_Healthcare Representative</th>\n",
       "      <th>JobRole_Manager</th>\n",
       "      <th>JobRole_Sales Representative</th>\n",
       "      <th>JobRole_Research Director</th>\n",
       "      <th>MaritalStatus_Married</th>\n",
       "      <th>MaritalStatus_Single</th>\n",
       "    </tr>\n",
       "  </thead>\n",
       "  <tbody>\n",
       "    <tr>\n",
       "      <th>0</th>\n",
       "      <td>0.446350</td>\n",
       "      <td>1</td>\n",
       "      <td>0.742527</td>\n",
       "      <td>-1.505350</td>\n",
       "      <td>-0.891688</td>\n",
       "      <td>-0.660531</td>\n",
       "      <td>1.383138</td>\n",
       "      <td>0.379672</td>\n",
       "      <td>0.112298</td>\n",
       "      <td>1.153254</td>\n",
       "      <td>...</td>\n",
       "      <td>1.873287</td>\n",
       "      <td>-0.497873</td>\n",
       "      <td>-0.462464</td>\n",
       "      <td>-0.330808</td>\n",
       "      <td>-0.312785</td>\n",
       "      <td>-0.273059</td>\n",
       "      <td>-0.244625</td>\n",
       "      <td>-0.239904</td>\n",
       "      <td>-0.918921</td>\n",
       "      <td>1.458650</td>\n",
       "    </tr>\n",
       "    <tr>\n",
       "      <th>1</th>\n",
       "      <td>1.322365</td>\n",
       "      <td>0</td>\n",
       "      <td>-1.297775</td>\n",
       "      <td>0.252002</td>\n",
       "      <td>-1.868426</td>\n",
       "      <td>0.254625</td>\n",
       "      <td>-0.240677</td>\n",
       "      <td>-1.026167</td>\n",
       "      <td>0.112298</td>\n",
       "      <td>-0.660853</td>\n",
       "      <td>...</td>\n",
       "      <td>-0.533821</td>\n",
       "      <td>2.008543</td>\n",
       "      <td>-0.462464</td>\n",
       "      <td>-0.330808</td>\n",
       "      <td>-0.312785</td>\n",
       "      <td>-0.273059</td>\n",
       "      <td>-0.244625</td>\n",
       "      <td>-0.239904</td>\n",
       "      <td>1.088232</td>\n",
       "      <td>-0.685565</td>\n",
       "    </tr>\n",
       "    <tr>\n",
       "      <th>2</th>\n",
       "      <td>0.008343</td>\n",
       "      <td>1</td>\n",
       "      <td>1.414363</td>\n",
       "      <td>-1.031607</td>\n",
       "      <td>-0.891688</td>\n",
       "      <td>1.169781</td>\n",
       "      <td>1.284725</td>\n",
       "      <td>-1.026167</td>\n",
       "      <td>-1.094180</td>\n",
       "      <td>0.246200</td>\n",
       "      <td>...</td>\n",
       "      <td>-0.533821</td>\n",
       "      <td>-0.497873</td>\n",
       "      <td>2.162331</td>\n",
       "      <td>-0.330808</td>\n",
       "      <td>-0.312785</td>\n",
       "      <td>-0.273059</td>\n",
       "      <td>-0.244625</td>\n",
       "      <td>-0.239904</td>\n",
       "      <td>-0.918921</td>\n",
       "      <td>1.458650</td>\n",
       "    </tr>\n",
       "    <tr>\n",
       "      <th>3</th>\n",
       "      <td>-0.429664</td>\n",
       "      <td>0</td>\n",
       "      <td>1.461466</td>\n",
       "      <td>-0.695482</td>\n",
       "      <td>1.061787</td>\n",
       "      <td>1.169781</td>\n",
       "      <td>-0.486709</td>\n",
       "      <td>0.379672</td>\n",
       "      <td>-1.094180</td>\n",
       "      <td>0.246200</td>\n",
       "      <td>...</td>\n",
       "      <td>-0.533821</td>\n",
       "      <td>2.008543</td>\n",
       "      <td>-0.462464</td>\n",
       "      <td>-0.330808</td>\n",
       "      <td>-0.312785</td>\n",
       "      <td>-0.273059</td>\n",
       "      <td>-0.244625</td>\n",
       "      <td>-0.239904</td>\n",
       "      <td>1.088232</td>\n",
       "      <td>-0.685565</td>\n",
       "    </tr>\n",
       "    <tr>\n",
       "      <th>4</th>\n",
       "      <td>-1.086676</td>\n",
       "      <td>0</td>\n",
       "      <td>-0.524295</td>\n",
       "      <td>-1.031607</td>\n",
       "      <td>-1.868426</td>\n",
       "      <td>-1.575686</td>\n",
       "      <td>-1.274014</td>\n",
       "      <td>0.379672</td>\n",
       "      <td>-1.094180</td>\n",
       "      <td>-0.660853</td>\n",
       "      <td>...</td>\n",
       "      <td>-0.533821</td>\n",
       "      <td>-0.497873</td>\n",
       "      <td>2.162331</td>\n",
       "      <td>-0.330808</td>\n",
       "      <td>-0.312785</td>\n",
       "      <td>-0.273059</td>\n",
       "      <td>-0.244625</td>\n",
       "      <td>-0.239904</td>\n",
       "      <td>1.088232</td>\n",
       "      <td>-0.685565</td>\n",
       "    </tr>\n",
       "  </tbody>\n",
       "</table>\n",
       "<p>5 rows × 45 columns</p>\n",
       "</div>"
      ],
      "text/plain": [
       "        Age  Attrition  DailyRate  DistanceFromHome  Education  \\\n",
       "0  0.446350          1   0.742527         -1.505350  -0.891688   \n",
       "1  1.322365          0  -1.297775          0.252002  -1.868426   \n",
       "2  0.008343          1   1.414363         -1.031607  -0.891688   \n",
       "3 -0.429664          0   1.461466         -0.695482   1.061787   \n",
       "4 -1.086676          0  -0.524295         -1.031607  -1.868426   \n",
       "\n",
       "   EnvironmentSatisfaction  HourlyRate  JobInvolvement  JobLevel  \\\n",
       "0                -0.660531    1.383138        0.379672  0.112298   \n",
       "1                 0.254625   -0.240677       -1.026167  0.112298   \n",
       "2                 1.169781    1.284725       -1.026167 -1.094180   \n",
       "3                 1.169781   -0.486709        0.379672 -1.094180   \n",
       "4                -1.575686   -1.274014        0.379672 -1.094180   \n",
       "\n",
       "   JobSatisfaction  ...  JobRole_Sales Executive  JobRole_Research Scientist  \\\n",
       "0         1.153254  ...                 1.873287                   -0.497873   \n",
       "1        -0.660853  ...                -0.533821                    2.008543   \n",
       "2         0.246200  ...                -0.533821                   -0.497873   \n",
       "3         0.246200  ...                -0.533821                    2.008543   \n",
       "4        -0.660853  ...                -0.533821                   -0.497873   \n",
       "\n",
       "   JobRole_Laboratory Technician  JobRole_Manufacturing Director  \\\n",
       "0                      -0.462464                       -0.330808   \n",
       "1                      -0.462464                       -0.330808   \n",
       "2                       2.162331                       -0.330808   \n",
       "3                      -0.462464                       -0.330808   \n",
       "4                       2.162331                       -0.330808   \n",
       "\n",
       "   JobRole_Healthcare Representative  JobRole_Manager  \\\n",
       "0                          -0.312785        -0.273059   \n",
       "1                          -0.312785        -0.273059   \n",
       "2                          -0.312785        -0.273059   \n",
       "3                          -0.312785        -0.273059   \n",
       "4                          -0.312785        -0.273059   \n",
       "\n",
       "   JobRole_Sales Representative  JobRole_Research Director  \\\n",
       "0                     -0.244625                  -0.239904   \n",
       "1                     -0.244625                  -0.239904   \n",
       "2                     -0.244625                  -0.239904   \n",
       "3                     -0.244625                  -0.239904   \n",
       "4                     -0.244625                  -0.239904   \n",
       "\n",
       "   MaritalStatus_Married  MaritalStatus_Single  \n",
       "0              -0.918921              1.458650  \n",
       "1               1.088232             -0.685565  \n",
       "2              -0.918921              1.458650  \n",
       "3               1.088232             -0.685565  \n",
       "4               1.088232             -0.685565  \n",
       "\n",
       "[5 rows x 45 columns]"
      ]
     },
     "execution_count": 453,
     "metadata": {},
     "output_type": "execute_result"
    }
   ],
   "source": [
    "df.head()"
   ]
  },
  {
   "cell_type": "code",
   "execution_count": 454,
   "id": "f7e394ec",
   "metadata": {},
   "outputs": [
    {
     "data": {
      "text/plain": [
       "0    1233\n",
       "1     237\n",
       "Name: Attrition, dtype: int64"
      ]
     },
     "execution_count": 454,
     "metadata": {},
     "output_type": "execute_result"
    }
   ],
   "source": [
    "df['Attrition'].value_counts()"
   ]
  },
  {
   "cell_type": "code",
   "execution_count": 455,
   "id": "497a27d0",
   "metadata": {},
   "outputs": [],
   "source": [
    "X = df.drop(\"Attrition\",axis=1)"
   ]
  },
  {
   "cell_type": "code",
   "execution_count": 456,
   "id": "1d1a601f",
   "metadata": {},
   "outputs": [],
   "source": [
    "y = df[\"Attrition\"]"
   ]
  },
  {
   "cell_type": "code",
   "execution_count": 457,
   "id": "f703ad6e",
   "metadata": {},
   "outputs": [
    {
     "data": {
      "text/html": [
       "<div>\n",
       "<style scoped>\n",
       "    .dataframe tbody tr th:only-of-type {\n",
       "        vertical-align: middle;\n",
       "    }\n",
       "\n",
       "    .dataframe tbody tr th {\n",
       "        vertical-align: top;\n",
       "    }\n",
       "\n",
       "    .dataframe thead th {\n",
       "        text-align: right;\n",
       "    }\n",
       "</style>\n",
       "<table border=\"1\" class=\"dataframe\">\n",
       "  <thead>\n",
       "    <tr style=\"text-align: right;\">\n",
       "      <th></th>\n",
       "      <th>Age</th>\n",
       "      <th>DailyRate</th>\n",
       "      <th>DistanceFromHome</th>\n",
       "      <th>Education</th>\n",
       "      <th>EnvironmentSatisfaction</th>\n",
       "      <th>HourlyRate</th>\n",
       "      <th>JobInvolvement</th>\n",
       "      <th>JobLevel</th>\n",
       "      <th>JobSatisfaction</th>\n",
       "      <th>MonthlyIncome</th>\n",
       "      <th>...</th>\n",
       "      <th>JobRole_Sales Executive</th>\n",
       "      <th>JobRole_Research Scientist</th>\n",
       "      <th>JobRole_Laboratory Technician</th>\n",
       "      <th>JobRole_Manufacturing Director</th>\n",
       "      <th>JobRole_Healthcare Representative</th>\n",
       "      <th>JobRole_Manager</th>\n",
       "      <th>JobRole_Sales Representative</th>\n",
       "      <th>JobRole_Research Director</th>\n",
       "      <th>MaritalStatus_Married</th>\n",
       "      <th>MaritalStatus_Single</th>\n",
       "    </tr>\n",
       "  </thead>\n",
       "  <tbody>\n",
       "    <tr>\n",
       "      <th>0</th>\n",
       "      <td>0.446350</td>\n",
       "      <td>0.742527</td>\n",
       "      <td>-1.505350</td>\n",
       "      <td>-0.891688</td>\n",
       "      <td>-0.660531</td>\n",
       "      <td>1.383138</td>\n",
       "      <td>0.379672</td>\n",
       "      <td>0.112298</td>\n",
       "      <td>1.153254</td>\n",
       "      <td>0.219493</td>\n",
       "      <td>...</td>\n",
       "      <td>1.873287</td>\n",
       "      <td>-0.497873</td>\n",
       "      <td>-0.462464</td>\n",
       "      <td>-0.330808</td>\n",
       "      <td>-0.312785</td>\n",
       "      <td>-0.273059</td>\n",
       "      <td>-0.244625</td>\n",
       "      <td>-0.239904</td>\n",
       "      <td>-0.918921</td>\n",
       "      <td>1.458650</td>\n",
       "    </tr>\n",
       "    <tr>\n",
       "      <th>1</th>\n",
       "      <td>1.322365</td>\n",
       "      <td>-1.297775</td>\n",
       "      <td>0.252002</td>\n",
       "      <td>-1.868426</td>\n",
       "      <td>0.254625</td>\n",
       "      <td>-0.240677</td>\n",
       "      <td>-1.026167</td>\n",
       "      <td>0.112298</td>\n",
       "      <td>-0.660853</td>\n",
       "      <td>-0.014600</td>\n",
       "      <td>...</td>\n",
       "      <td>-0.533821</td>\n",
       "      <td>2.008543</td>\n",
       "      <td>-0.462464</td>\n",
       "      <td>-0.330808</td>\n",
       "      <td>-0.312785</td>\n",
       "      <td>-0.273059</td>\n",
       "      <td>-0.244625</td>\n",
       "      <td>-0.239904</td>\n",
       "      <td>1.088232</td>\n",
       "      <td>-0.685565</td>\n",
       "    </tr>\n",
       "    <tr>\n",
       "      <th>2</th>\n",
       "      <td>0.008343</td>\n",
       "      <td>1.414363</td>\n",
       "      <td>-1.031607</td>\n",
       "      <td>-0.891688</td>\n",
       "      <td>1.169781</td>\n",
       "      <td>1.284725</td>\n",
       "      <td>-1.026167</td>\n",
       "      <td>-1.094180</td>\n",
       "      <td>0.246200</td>\n",
       "      <td>-1.366318</td>\n",
       "      <td>...</td>\n",
       "      <td>-0.533821</td>\n",
       "      <td>-0.497873</td>\n",
       "      <td>2.162331</td>\n",
       "      <td>-0.330808</td>\n",
       "      <td>-0.312785</td>\n",
       "      <td>-0.273059</td>\n",
       "      <td>-0.244625</td>\n",
       "      <td>-0.239904</td>\n",
       "      <td>-0.918921</td>\n",
       "      <td>1.458650</td>\n",
       "    </tr>\n",
       "    <tr>\n",
       "      <th>3</th>\n",
       "      <td>-0.429664</td>\n",
       "      <td>1.461466</td>\n",
       "      <td>-0.695482</td>\n",
       "      <td>1.061787</td>\n",
       "      <td>1.169781</td>\n",
       "      <td>-0.486709</td>\n",
       "      <td>0.379672</td>\n",
       "      <td>-1.094180</td>\n",
       "      <td>0.246200</td>\n",
       "      <td>-0.868626</td>\n",
       "      <td>...</td>\n",
       "      <td>-0.533821</td>\n",
       "      <td>2.008543</td>\n",
       "      <td>-0.462464</td>\n",
       "      <td>-0.330808</td>\n",
       "      <td>-0.312785</td>\n",
       "      <td>-0.273059</td>\n",
       "      <td>-0.244625</td>\n",
       "      <td>-0.239904</td>\n",
       "      <td>1.088232</td>\n",
       "      <td>-0.685565</td>\n",
       "    </tr>\n",
       "    <tr>\n",
       "      <th>4</th>\n",
       "      <td>-1.086676</td>\n",
       "      <td>-0.524295</td>\n",
       "      <td>-1.031607</td>\n",
       "      <td>-1.868426</td>\n",
       "      <td>-1.575686</td>\n",
       "      <td>-1.274014</td>\n",
       "      <td>0.379672</td>\n",
       "      <td>-1.094180</td>\n",
       "      <td>-0.660853</td>\n",
       "      <td>-0.604032</td>\n",
       "      <td>...</td>\n",
       "      <td>-0.533821</td>\n",
       "      <td>-0.497873</td>\n",
       "      <td>2.162331</td>\n",
       "      <td>-0.330808</td>\n",
       "      <td>-0.312785</td>\n",
       "      <td>-0.273059</td>\n",
       "      <td>-0.244625</td>\n",
       "      <td>-0.239904</td>\n",
       "      <td>1.088232</td>\n",
       "      <td>-0.685565</td>\n",
       "    </tr>\n",
       "    <tr>\n",
       "      <th>...</th>\n",
       "      <td>...</td>\n",
       "      <td>...</td>\n",
       "      <td>...</td>\n",
       "      <td>...</td>\n",
       "      <td>...</td>\n",
       "      <td>...</td>\n",
       "      <td>...</td>\n",
       "      <td>...</td>\n",
       "      <td>...</td>\n",
       "      <td>...</td>\n",
       "      <td>...</td>\n",
       "      <td>...</td>\n",
       "      <td>...</td>\n",
       "      <td>...</td>\n",
       "      <td>...</td>\n",
       "      <td>...</td>\n",
       "      <td>...</td>\n",
       "      <td>...</td>\n",
       "      <td>...</td>\n",
       "      <td>...</td>\n",
       "      <td>...</td>\n",
       "    </tr>\n",
       "    <tr>\n",
       "      <th>1465</th>\n",
       "      <td>-0.101159</td>\n",
       "      <td>0.202082</td>\n",
       "      <td>1.397995</td>\n",
       "      <td>-0.891688</td>\n",
       "      <td>0.254625</td>\n",
       "      <td>-1.224807</td>\n",
       "      <td>1.785511</td>\n",
       "      <td>0.112298</td>\n",
       "      <td>1.153254</td>\n",
       "      <td>-1.054549</td>\n",
       "      <td>...</td>\n",
       "      <td>-0.533821</td>\n",
       "      <td>-0.497873</td>\n",
       "      <td>2.162331</td>\n",
       "      <td>-0.330808</td>\n",
       "      <td>-0.312785</td>\n",
       "      <td>-0.273059</td>\n",
       "      <td>-0.244625</td>\n",
       "      <td>-0.239904</td>\n",
       "      <td>1.088232</td>\n",
       "      <td>-0.685565</td>\n",
       "    </tr>\n",
       "    <tr>\n",
       "      <th>1466</th>\n",
       "      <td>0.227347</td>\n",
       "      <td>-0.469754</td>\n",
       "      <td>-0.041631</td>\n",
       "      <td>-1.868426</td>\n",
       "      <td>1.169781</td>\n",
       "      <td>-1.175601</td>\n",
       "      <td>-1.026167</td>\n",
       "      <td>0.968307</td>\n",
       "      <td>-1.567907</td>\n",
       "      <td>0.989009</td>\n",
       "      <td>...</td>\n",
       "      <td>-0.533821</td>\n",
       "      <td>-0.497873</td>\n",
       "      <td>-0.462464</td>\n",
       "      <td>-0.330808</td>\n",
       "      <td>3.197088</td>\n",
       "      <td>-0.273059</td>\n",
       "      <td>-0.244625</td>\n",
       "      <td>-0.239904</td>\n",
       "      <td>1.088232</td>\n",
       "      <td>-0.685565</td>\n",
       "    </tr>\n",
       "    <tr>\n",
       "      <th>1467</th>\n",
       "      <td>-1.086676</td>\n",
       "      <td>-1.605183</td>\n",
       "      <td>-0.434763</td>\n",
       "      <td>0.085049</td>\n",
       "      <td>-0.660531</td>\n",
       "      <td>1.038693</td>\n",
       "      <td>1.785511</td>\n",
       "      <td>0.112298</td>\n",
       "      <td>-0.660853</td>\n",
       "      <td>0.256468</td>\n",
       "      <td>...</td>\n",
       "      <td>-0.533821</td>\n",
       "      <td>-0.497873</td>\n",
       "      <td>-0.462464</td>\n",
       "      <td>3.022901</td>\n",
       "      <td>-0.312785</td>\n",
       "      <td>-0.273059</td>\n",
       "      <td>-0.244625</td>\n",
       "      <td>-0.239904</td>\n",
       "      <td>1.088232</td>\n",
       "      <td>-0.685565</td>\n",
       "    </tr>\n",
       "    <tr>\n",
       "      <th>1468</th>\n",
       "      <td>1.322365</td>\n",
       "      <td>0.546677</td>\n",
       "      <td>-1.031607</td>\n",
       "      <td>0.085049</td>\n",
       "      <td>1.169781</td>\n",
       "      <td>-0.142264</td>\n",
       "      <td>-1.026167</td>\n",
       "      <td>0.112298</td>\n",
       "      <td>-0.660853</td>\n",
       "      <td>0.059833</td>\n",
       "      <td>...</td>\n",
       "      <td>1.873287</td>\n",
       "      <td>-0.497873</td>\n",
       "      <td>-0.462464</td>\n",
       "      <td>-0.330808</td>\n",
       "      <td>-0.312785</td>\n",
       "      <td>-0.273059</td>\n",
       "      <td>-0.244625</td>\n",
       "      <td>-0.239904</td>\n",
       "      <td>1.088232</td>\n",
       "      <td>-0.685565</td>\n",
       "    </tr>\n",
       "    <tr>\n",
       "      <th>1469</th>\n",
       "      <td>-0.320163</td>\n",
       "      <td>-0.432568</td>\n",
       "      <td>0.252002</td>\n",
       "      <td>0.085049</td>\n",
       "      <td>-0.660531</td>\n",
       "      <td>0.792660</td>\n",
       "      <td>1.785511</td>\n",
       "      <td>0.112298</td>\n",
       "      <td>0.246200</td>\n",
       "      <td>-0.244330</td>\n",
       "      <td>...</td>\n",
       "      <td>-0.533821</td>\n",
       "      <td>-0.497873</td>\n",
       "      <td>2.162331</td>\n",
       "      <td>-0.330808</td>\n",
       "      <td>-0.312785</td>\n",
       "      <td>-0.273059</td>\n",
       "      <td>-0.244625</td>\n",
       "      <td>-0.239904</td>\n",
       "      <td>1.088232</td>\n",
       "      <td>-0.685565</td>\n",
       "    </tr>\n",
       "  </tbody>\n",
       "</table>\n",
       "<p>1470 rows × 44 columns</p>\n",
       "</div>"
      ],
      "text/plain": [
       "           Age  DailyRate  DistanceFromHome  Education  \\\n",
       "0     0.446350   0.742527         -1.505350  -0.891688   \n",
       "1     1.322365  -1.297775          0.252002  -1.868426   \n",
       "2     0.008343   1.414363         -1.031607  -0.891688   \n",
       "3    -0.429664   1.461466         -0.695482   1.061787   \n",
       "4    -1.086676  -0.524295         -1.031607  -1.868426   \n",
       "...        ...        ...               ...        ...   \n",
       "1465 -0.101159   0.202082          1.397995  -0.891688   \n",
       "1466  0.227347  -0.469754         -0.041631  -1.868426   \n",
       "1467 -1.086676  -1.605183         -0.434763   0.085049   \n",
       "1468  1.322365   0.546677         -1.031607   0.085049   \n",
       "1469 -0.320163  -0.432568          0.252002   0.085049   \n",
       "\n",
       "      EnvironmentSatisfaction  HourlyRate  JobInvolvement  JobLevel  \\\n",
       "0                   -0.660531    1.383138        0.379672  0.112298   \n",
       "1                    0.254625   -0.240677       -1.026167  0.112298   \n",
       "2                    1.169781    1.284725       -1.026167 -1.094180   \n",
       "3                    1.169781   -0.486709        0.379672 -1.094180   \n",
       "4                   -1.575686   -1.274014        0.379672 -1.094180   \n",
       "...                       ...         ...             ...       ...   \n",
       "1465                 0.254625   -1.224807        1.785511  0.112298   \n",
       "1466                 1.169781   -1.175601       -1.026167  0.968307   \n",
       "1467                -0.660531    1.038693        1.785511  0.112298   \n",
       "1468                 1.169781   -0.142264       -1.026167  0.112298   \n",
       "1469                -0.660531    0.792660        1.785511  0.112298   \n",
       "\n",
       "      JobSatisfaction  MonthlyIncome  ...  JobRole_Sales Executive  \\\n",
       "0            1.153254       0.219493  ...                 1.873287   \n",
       "1           -0.660853      -0.014600  ...                -0.533821   \n",
       "2            0.246200      -1.366318  ...                -0.533821   \n",
       "3            0.246200      -0.868626  ...                -0.533821   \n",
       "4           -0.660853      -0.604032  ...                -0.533821   \n",
       "...               ...            ...  ...                      ...   \n",
       "1465         1.153254      -1.054549  ...                -0.533821   \n",
       "1466        -1.567907       0.989009  ...                -0.533821   \n",
       "1467        -0.660853       0.256468  ...                -0.533821   \n",
       "1468        -0.660853       0.059833  ...                 1.873287   \n",
       "1469         0.246200      -0.244330  ...                -0.533821   \n",
       "\n",
       "      JobRole_Research Scientist  JobRole_Laboratory Technician  \\\n",
       "0                      -0.497873                      -0.462464   \n",
       "1                       2.008543                      -0.462464   \n",
       "2                      -0.497873                       2.162331   \n",
       "3                       2.008543                      -0.462464   \n",
       "4                      -0.497873                       2.162331   \n",
       "...                          ...                            ...   \n",
       "1465                   -0.497873                       2.162331   \n",
       "1466                   -0.497873                      -0.462464   \n",
       "1467                   -0.497873                      -0.462464   \n",
       "1468                   -0.497873                      -0.462464   \n",
       "1469                   -0.497873                       2.162331   \n",
       "\n",
       "      JobRole_Manufacturing Director  JobRole_Healthcare Representative  \\\n",
       "0                          -0.330808                          -0.312785   \n",
       "1                          -0.330808                          -0.312785   \n",
       "2                          -0.330808                          -0.312785   \n",
       "3                          -0.330808                          -0.312785   \n",
       "4                          -0.330808                          -0.312785   \n",
       "...                              ...                                ...   \n",
       "1465                       -0.330808                          -0.312785   \n",
       "1466                       -0.330808                           3.197088   \n",
       "1467                        3.022901                          -0.312785   \n",
       "1468                       -0.330808                          -0.312785   \n",
       "1469                       -0.330808                          -0.312785   \n",
       "\n",
       "      JobRole_Manager  JobRole_Sales Representative  \\\n",
       "0           -0.273059                     -0.244625   \n",
       "1           -0.273059                     -0.244625   \n",
       "2           -0.273059                     -0.244625   \n",
       "3           -0.273059                     -0.244625   \n",
       "4           -0.273059                     -0.244625   \n",
       "...               ...                           ...   \n",
       "1465        -0.273059                     -0.244625   \n",
       "1466        -0.273059                     -0.244625   \n",
       "1467        -0.273059                     -0.244625   \n",
       "1468        -0.273059                     -0.244625   \n",
       "1469        -0.273059                     -0.244625   \n",
       "\n",
       "      JobRole_Research Director  MaritalStatus_Married  MaritalStatus_Single  \n",
       "0                     -0.239904              -0.918921              1.458650  \n",
       "1                     -0.239904               1.088232             -0.685565  \n",
       "2                     -0.239904              -0.918921              1.458650  \n",
       "3                     -0.239904               1.088232             -0.685565  \n",
       "4                     -0.239904               1.088232             -0.685565  \n",
       "...                         ...                    ...                   ...  \n",
       "1465                  -0.239904               1.088232             -0.685565  \n",
       "1466                  -0.239904               1.088232             -0.685565  \n",
       "1467                  -0.239904               1.088232             -0.685565  \n",
       "1468                  -0.239904               1.088232             -0.685565  \n",
       "1469                  -0.239904               1.088232             -0.685565  \n",
       "\n",
       "[1470 rows x 44 columns]"
      ]
     },
     "execution_count": 457,
     "metadata": {},
     "output_type": "execute_result"
    }
   ],
   "source": [
    "X"
   ]
  },
  {
   "cell_type": "code",
   "execution_count": 458,
   "id": "6077f285",
   "metadata": {},
   "outputs": [
    {
     "data": {
      "text/plain": [
       "0       1\n",
       "1       0\n",
       "2       1\n",
       "3       0\n",
       "4       0\n",
       "       ..\n",
       "1465    0\n",
       "1466    0\n",
       "1467    0\n",
       "1468    0\n",
       "1469    0\n",
       "Name: Attrition, Length: 1470, dtype: int64"
      ]
     },
     "execution_count": 458,
     "metadata": {},
     "output_type": "execute_result"
    }
   ],
   "source": [
    "y"
   ]
  },
  {
   "cell_type": "code",
   "execution_count": 459,
   "id": "9caf01fe",
   "metadata": {},
   "outputs": [],
   "source": [
    "from sklearn.model_selection import train_test_split\n",
    "X_train,X_test,y_train,y_test = train_test_split(X,y,test_size=0.2,random_state=0)"
   ]
  },
  {
   "cell_type": "code",
   "execution_count": 460,
   "id": "116b15ac",
   "metadata": {},
   "outputs": [],
   "source": [
    "from sklearn.neighbors import KNeighborsClassifier\n",
    "\n",
    "# Create Decision Tree classifier object\n",
    "model = KNeighborsClassifier(n_neighbors=4)\n",
    "# Train Decision Tree Classifier\n",
    "model = model.fit(X_train,y_train)\n",
    "#Predict the response for test dataset\n",
    "prediction= model.fit(X_train, y_train).predict(X_test)"
   ]
  },
  {
   "cell_type": "code",
   "execution_count": 461,
   "id": "b096059e",
   "metadata": {},
   "outputs": [],
   "source": [
    "prediction21=model.predict(X_test)"
   ]
  },
  {
   "cell_type": "code",
   "execution_count": 462,
   "id": "5d739bf7",
   "metadata": {},
   "outputs": [
    {
     "name": "stdout",
     "output_type": "stream",
     "text": [
      "Accuracy is  0.8503401360544217\n"
     ]
    }
   ],
   "source": [
    "from sklearn.metrics import accuracy_score\n",
    "print(\"Accuracy is \",accuracy_score(y_test,prediction21))"
   ]
  },
  {
   "cell_type": "markdown",
   "id": "7b817a63",
   "metadata": {},
   "source": [
    "# 2 ) Apply bagging & boosting"
   ]
  },
  {
   "cell_type": "markdown",
   "id": "96663ea0",
   "metadata": {},
   "source": [
    "# Goal6)Ensemble Techniques on model"
   ]
  },
  {
   "cell_type": "code",
   "execution_count": 463,
   "id": "50123e9b",
   "metadata": {},
   "outputs": [
    {
     "data": {
      "text/plain": [
       "0.8673469387755102"
      ]
     },
     "execution_count": 463,
     "metadata": {},
     "output_type": "execute_result"
    }
   ],
   "source": [
    "from sklearn.ensemble import BaggingClassifier\n",
    "\n",
    "model = BaggingClassifier(base_estimator=KNeighborsClassifier(),n_estimators = 100,\n",
    "                          max_samples=0.8,oob_score=True,random_state=0)\n",
    "model.fit(X_train, y_train)\n",
    "\n",
    "#accuracy score--->training set\n",
    "#model.oob_score_\n",
    "\n",
    "model.score(X_train,y_train)"
   ]
  },
  {
   "cell_type": "code",
   "execution_count": 464,
   "id": "91e09b70",
   "metadata": {},
   "outputs": [
    {
     "name": "stdout",
     "output_type": "stream",
     "text": [
      "The accuracy of the XGBClassifier is 0.8571428571428571\n"
     ]
    }
   ],
   "source": [
    "model=XGBClassifier()\n",
    "model.fit(X_train,y_train)\n",
    "prediction21=model.predict(X_test)\n",
    "print('The accuracy of the XGBClassifier is',metrics.accuracy_score(prediction21,y_test))"
   ]
  },
  {
   "cell_type": "code",
   "execution_count": 465,
   "id": "26cc481c",
   "metadata": {},
   "outputs": [
    {
     "name": "stdout",
     "output_type": "stream",
     "text": [
      "Accuracy:85.71%\n"
     ]
    }
   ],
   "source": [
    "accuracy=accuracy_score(y_test,prediction21)\n",
    "print(\"Accuracy:%.2f%%\" %(accuracy *100.0))"
   ]
  },
  {
   "cell_type": "code",
   "execution_count": 466,
   "id": "c1892ba8",
   "metadata": {},
   "outputs": [
    {
     "data": {
      "image/png": "[encoded data removed]",
      "text/plain": [
       "<Figure size 1296x1152 with 1 Axes>"
      ]
     },
     "metadata": {
      "needs_background": "light"
     },
     "output_type": "display_data"
    }
   ],
   "source": [
    "from xgboost import plot_importance\n",
    "from matplotlib import pyplot\n",
    "from matplotlib import rcParams\n",
    "rcParams['figure.figsize']=18,16\n",
    "plot_importance(model)\n",
    "pyplot.show()"
   ]
  },
  {
   "cell_type": "code",
   "execution_count": 467,
   "id": "5bf99e70",
   "metadata": {},
   "outputs": [
    {
     "name": "stdout",
     "output_type": "stream",
     "text": [
      "The accuracy of the GradientBoostingClassifier is 0.8707482993197279\n"
     ]
    }
   ],
   "source": [
    "model=GradientBoostingClassifier()\n",
    "model.fit(X_train,y_train)\n",
    "prediction21=model.predict(X_test)\n",
    "print('The accuracy of the GradientBoostingClassifier is',metrics.accuracy_score(prediction21,y_test))"
   ]
  },
  {
   "cell_type": "code",
   "execution_count": 468,
   "id": "0e382735",
   "metadata": {},
   "outputs": [
    {
     "name": "stdout",
     "output_type": "stream",
     "text": [
      "Accuracy:87.07%\n"
     ]
    }
   ],
   "source": [
    "accuracy=accuracy_score(y_test,prediction21)\n",
    "print(\"Accuracy:%.2f%%\" %(accuracy *100.0))"
   ]
  },
  {
   "cell_type": "markdown",
   "id": "cd793920",
   "metadata": {},
   "source": [
    "# 3)Do confusion matrix & cross validation"
   ]
  },
  {
   "cell_type": "code",
   "execution_count": 469,
   "id": "23c601f7",
   "metadata": {},
   "outputs": [],
   "source": [
    "from sklearn.metrics import confusion_matrix\n",
    "from sklearn.metrics import classification_report"
   ]
  },
  {
   "cell_type": "code",
   "execution_count": 470,
   "id": "feccaf3a",
   "metadata": {},
   "outputs": [
    {
     "data": {
      "text/plain": [
       "array([[240,   5],\n",
       "       [ 33,  16]], dtype=int64)"
      ]
     },
     "execution_count": 470,
     "metadata": {},
     "output_type": "execute_result"
    }
   ],
   "source": [
    "confusion_matrix(y_test,prediction21)"
   ]
  },
  {
   "cell_type": "code",
   "execution_count": 471,
   "id": "15e98d7a",
   "metadata": {},
   "outputs": [
    {
     "data": {
      "text/plain": [
       "(243, 2, 42, 7)"
      ]
     },
     "execution_count": 471,
     "metadata": {},
     "output_type": "execute_result"
    }
   ],
   "source": [
    "tn, fp, fn, tp= confusion_matrix(y_test,prediction).ravel()\n",
    "(tn, fp, fn, tp)"
   ]
  },
  {
   "cell_type": "code",
   "execution_count": 472,
   "id": "2a9faef5",
   "metadata": {},
   "outputs": [
    {
     "name": "stdout",
     "output_type": "stream",
     "text": [
      "Classification report : \n",
      "               precision    recall  f1-score   support\n",
      "\n",
      "           0       0.88      0.98      0.93       245\n",
      "           1       0.76      0.33      0.46        49\n",
      "\n",
      "    accuracy                           0.87       294\n",
      "   macro avg       0.82      0.65      0.69       294\n",
      "weighted avg       0.86      0.87      0.85       294\n",
      "\n"
     ]
    }
   ],
   "source": [
    "matrix = classification_report(y_test,prediction21)\n",
    "print('Classification report : \\n',matrix)"
   ]
  },
  {
   "cell_type": "code",
   "execution_count": 473,
   "id": "f5902918",
   "metadata": {},
   "outputs": [
    {
     "data": {
      "text/plain": [
       "<AxesSubplot:>"
      ]
     },
     "execution_count": 473,
     "metadata": {},
     "output_type": "execute_result"
    },
    {
     "data": {
      "image/png": "[encoded data removed]",
      "text/plain": [
       "<Figure size 1296x1152 with 2 Axes>"
      ]
     },
     "metadata": {
      "needs_background": "light"
     },
     "output_type": "display_data"
    }
   ],
   "source": [
    "import seaborn as sns\n",
    "sns.heatmap(confusion_matrix(y_test,prediction21), annot=True)"
   ]
  },
  {
   "cell_type": "code",
   "execution_count": 474,
   "id": "5681ae27",
   "metadata": {},
   "outputs": [],
   "source": [
    "from sklearn.model_selection import cross_val_score"
   ]
  },
  {
   "cell_type": "code",
   "execution_count": 475,
   "id": "cab5b444",
   "metadata": {},
   "outputs": [
    {
     "data": {
      "text/plain": [
       "array([0.8537415 , 0.85714286, 0.83673469, 0.85034014, 0.85714286])"
      ]
     },
     "execution_count": 475,
     "metadata": {},
     "output_type": "execute_result"
    }
   ],
   "source": [
    "cross_val_score(KNeighborsClassifier(),X,df.Attrition)"
   ]
  },
  {
   "cell_type": "code",
   "execution_count": 476,
   "id": "76836368",
   "metadata": {},
   "outputs": [
    {
     "data": {
      "text/plain": [
       "array([0.78911565, 0.76190476, 0.79931973, 0.74829932, 0.78571429])"
      ]
     },
     "execution_count": 476,
     "metadata": {},
     "output_type": "execute_result"
    }
   ],
   "source": [
    "cross_val_score(DecisionTreeClassifier(),X,df.Attrition)"
   ]
  },
  {
   "cell_type": "code",
   "execution_count": 477,
   "id": "e39163cd",
   "metadata": {},
   "outputs": [
    {
     "data": {
      "text/plain": [
       "array([0.86054422, 0.86394558, 0.87755102, 0.88095238, 0.88435374])"
      ]
     },
     "execution_count": 477,
     "metadata": {},
     "output_type": "execute_result"
    }
   ],
   "source": [
    "from sklearn.svm import SVC\n",
    "cross_val_score(SVC(),X,df.Attrition)"
   ]
  },
  {
   "cell_type": "markdown",
   "id": "fd9e5307",
   "metadata": {},
   "source": [
    "# 4)Create ROC-AUC curve"
   ]
  },
  {
   "cell_type": "code",
   "execution_count": 478,
   "id": "ed29f8f7",
   "metadata": {},
   "outputs": [],
   "source": [
    "from sklearn.linear_model import LogisticRegression\n",
    "LRClassifier=LogisticRegression(random_state=10)\n",
    "LRClassifier.fit(X_train,y_train)\n",
    "y_pred_logistic=LRClassifier.decision_function(X_test)"
   ]
  },
  {
   "cell_type": "code",
   "execution_count": 479,
   "id": "0c78dc2a",
   "metadata": {},
   "outputs": [
    {
     "data": {
      "image/png": "[encoded data removed]",
      "text/plain": [
       "<Figure size 700x600 with 1 Axes>"
      ]
     },
     "metadata": {
      "needs_background": "light"
     },
     "output_type": "display_data"
    }
   ],
   "source": [
    "from sklearn.svm import SVC\n",
    "SVCClassifier=SVC(random_state=10)\n",
    "SVCClassifier.fit(X_train,y_train)\n",
    "y_pred_SVC=SVCClassifier.decision_function(X_test)\n",
    "#y_pred_logistic=LogisticRegression.decision_function(X_test)\n",
    "\n",
    "\n",
    "\n",
    "\n",
    "\n",
    "from sklearn.metrics import roc_curve , auc\n",
    "\n",
    "logistic_fpr,logistic_tpr,threshold=roc_curve(y_test,prediction)\n",
    "auc_logistic=auc(logistic_fpr,logistic_tpr)\n",
    "\n",
    "\n",
    "svm_fpr,svm_tpr,threshold=roc_curve(y_test,y_pred_SVC)\n",
    "auc_SVC=auc(svm_fpr,svm_tpr)\n",
    "\n",
    "\n",
    "plt.figure(figsize=(7,6),dpi=100)\n",
    "plt.plot(svm_fpr,svm_tpr,linestyle=\"-\",label='SVM(auc=%0.3f)'% auc_SVC)\n",
    "plt.plot(logistic_fpr,logistic_tpr,marker=\"_\",label='Logisitic(auc=%0.3f)' % auc_logistic)\n",
    "\n",
    "plt.xlabel(\"False Positive Rate-->\")\n",
    "plt.ylabel(\"True Postive Rate-->\")\n",
    "plt.title('ROC-AUC curve')\n",
    "plt.legend()\n",
    "plt.show()"
   ]
  },
  {
   "cell_type": "markdown",
   "id": "af1ee60d",
   "metadata": {},
   "source": [
    "# Goal 4]Naïve Bayes Classifier\n"
   ]
  },
  {
   "cell_type": "markdown",
   "id": "1ed4f26e",
   "metadata": {},
   "source": [
    "# 1 )Create Model\n"
   ]
  },
  {
   "cell_type": "code",
   "execution_count": 480,
   "id": "798b61a6",
   "metadata": {},
   "outputs": [],
   "source": [
    "import pandas as pd\n",
    "import numpy as np\n",
    "import seaborn as sns\n",
    "import matplotlib.pyplot as plt\n",
    "\n",
    "import warnings\n",
    "warnings.filterwarnings('ignore')"
   ]
  },
  {
   "cell_type": "code",
   "execution_count": 481,
   "id": "afc1d62a",
   "metadata": {},
   "outputs": [],
   "source": [
    "df = pd.read_csv(\"PROJECT SUPERVISED.csv\")"
   ]
  },
  {
   "cell_type": "code",
   "execution_count": 482,
   "id": "fb6058eb",
   "metadata": {},
   "outputs": [
    {
     "data": {
      "text/plain": [
       "0    1233\n",
       "1     237\n",
       "Name: Attrition, dtype: int64"
      ]
     },
     "execution_count": 482,
     "metadata": {},
     "output_type": "execute_result"
    }
   ],
   "source": [
    "df['Attrition'].value_counts()"
   ]
  },
  {
   "cell_type": "code",
   "execution_count": 483,
   "id": "12433a4b",
   "metadata": {},
   "outputs": [],
   "source": [
    "X = df.drop(\"Attrition\",axis=1)"
   ]
  },
  {
   "cell_type": "code",
   "execution_count": 484,
   "id": "0b068264",
   "metadata": {},
   "outputs": [],
   "source": [
    "y = df[\"Attrition\"]"
   ]
  },
  {
   "cell_type": "code",
   "execution_count": 485,
   "id": "5135932e",
   "metadata": {},
   "outputs": [],
   "source": [
    "from sklearn.model_selection import train_test_split\n",
    "X_train,X_test,y_train,y_test = train_test_split(X,y,test_size=0.2,random_state=0)"
   ]
  },
  {
   "cell_type": "code",
   "execution_count": 486,
   "id": "68a1d465",
   "metadata": {},
   "outputs": [],
   "source": [
    "from sklearn.naive_bayes import GaussianNB\n",
    "\n",
    "\n",
    "# Create Decision Tree classifier object\n",
    "model = GaussianNB()\n",
    "# Train Decision Tree Classifier\n",
    "model = model.fit(X_train,y_train)\n",
    "#Predict the response for test dataset\n",
    "y_pred_GNB = model.fit(X_train, y_train).predict(X_test)"
   ]
  },
  {
   "cell_type": "code",
   "execution_count": 487,
   "id": "4c64ee1c",
   "metadata": {},
   "outputs": [],
   "source": [
    "prediction22=model.predict(X_test)"
   ]
  },
  {
   "cell_type": "code",
   "execution_count": 488,
   "id": "886a569e",
   "metadata": {},
   "outputs": [
    {
     "name": "stdout",
     "output_type": "stream",
     "text": [
      "Accuracy is  0.7006802721088435\n"
     ]
    }
   ],
   "source": [
    "from sklearn.metrics import accuracy_score\n",
    "print(\"Accuracy is \",accuracy_score(y_test,prediction22))"
   ]
  },
  {
   "cell_type": "markdown",
   "id": "7f8d2849",
   "metadata": {},
   "source": [
    "# 2 ) Apply bagging & boosting\n"
   ]
  },
  {
   "cell_type": "markdown",
   "id": "55a8a776",
   "metadata": {},
   "source": [
    "# Goal6)Ensemble Techniques on model"
   ]
  },
  {
   "cell_type": "code",
   "execution_count": 489,
   "id": "081244d1",
   "metadata": {},
   "outputs": [
    {
     "data": {
      "text/plain": [
       "0.8673469387755102"
      ]
     },
     "execution_count": 489,
     "metadata": {},
     "output_type": "execute_result"
    }
   ],
   "source": [
    "from sklearn.ensemble import BaggingClassifier\n",
    "\n",
    "model = BaggingClassifier(base_estimator=KNeighborsClassifier(),n_estimators = 100,\n",
    "                          max_samples=0.8,oob_score=True,random_state=0)\n",
    "model.fit(X_train, y_train)\n",
    "\n",
    "#accuracy score--->training set\n",
    "#model.oob_score_\n",
    "\n",
    "model.score(X_train,y_train)"
   ]
  },
  {
   "cell_type": "code",
   "execution_count": 490,
   "id": "e8893ba2",
   "metadata": {},
   "outputs": [
    {
     "name": "stdout",
     "output_type": "stream",
     "text": [
      "The accuracy of the XGBClassifier is 0.8571428571428571\n"
     ]
    }
   ],
   "source": [
    "model=XGBClassifier()\n",
    "model.fit(X_train,y_train)\n",
    "prediction22=model.predict(X_test)\n",
    "print('The accuracy of the XGBClassifier is',metrics.accuracy_score(prediction22,y_test))"
   ]
  },
  {
   "cell_type": "code",
   "execution_count": 491,
   "id": "4ae37996",
   "metadata": {},
   "outputs": [
    {
     "name": "stdout",
     "output_type": "stream",
     "text": [
      "Accuracy:87.07%\n"
     ]
    }
   ],
   "source": [
    "accuracy=accuracy_score(y_test,prediction21)\n",
    "print(\"Accuracy:%.2f%%\" %(accuracy *100.0))"
   ]
  },
  {
   "cell_type": "code",
   "execution_count": 492,
   "id": "7d3cf82f",
   "metadata": {},
   "outputs": [
    {
     "name": "stdout",
     "output_type": "stream",
     "text": [
      "The accuracy of the GradientBoostingClassifier is 0.8707482993197279\n"
     ]
    }
   ],
   "source": [
    "model=GradientBoostingClassifier()\n",
    "model.fit(X_train,y_train)\n",
    "prediction50=model.predict(X_test)\n",
    "print('The accuracy of the GradientBoostingClassifier is',metrics.accuracy_score(prediction50,y_test))"
   ]
  },
  {
   "cell_type": "code",
   "execution_count": 493,
   "id": "64db1ae8",
   "metadata": {},
   "outputs": [
    {
     "name": "stdout",
     "output_type": "stream",
     "text": [
      "Accuracy:87.07%\n"
     ]
    }
   ],
   "source": [
    "accuracy=accuracy_score(y_test,prediction50)\n",
    "print(\"Accuracy:%.2f%%\" %(accuracy *100.0))"
   ]
  },
  {
   "cell_type": "markdown",
   "id": "be76d1ce",
   "metadata": {},
   "source": [
    "# 3)Do confusion matrix & cross validation"
   ]
  },
  {
   "cell_type": "code",
   "execution_count": 494,
   "id": "9fa23c28",
   "metadata": {},
   "outputs": [],
   "source": [
    "from sklearn.metrics import confusion_matrix\n",
    "from sklearn.metrics import classification_report"
   ]
  },
  {
   "cell_type": "code",
   "execution_count": 495,
   "id": "62043043",
   "metadata": {},
   "outputs": [
    {
     "data": {
      "text/plain": [
       "array([[240,   5],\n",
       "       [ 33,  16]], dtype=int64)"
      ]
     },
     "execution_count": 495,
     "metadata": {},
     "output_type": "execute_result"
    }
   ],
   "source": [
    "confusion_matrix(y_test,prediction50)"
   ]
  },
  {
   "cell_type": "code",
   "execution_count": 496,
   "id": "a92969ce",
   "metadata": {},
   "outputs": [
    {
     "data": {
      "text/plain": [
       "(240, 5, 33, 16)"
      ]
     },
     "execution_count": 496,
     "metadata": {},
     "output_type": "execute_result"
    }
   ],
   "source": [
    "tn, fp, fn, tp= confusion_matrix(y_test,prediction50).ravel()\n",
    "(tn, fp, fn, tp)"
   ]
  },
  {
   "cell_type": "code",
   "execution_count": 497,
   "id": "2fa51b69",
   "metadata": {},
   "outputs": [
    {
     "name": "stdout",
     "output_type": "stream",
     "text": [
      "Classification report : \n",
      "               precision    recall  f1-score   support\n",
      "\n",
      "           0       0.88      0.98      0.93       245\n",
      "           1       0.76      0.33      0.46        49\n",
      "\n",
      "    accuracy                           0.87       294\n",
      "   macro avg       0.82      0.65      0.69       294\n",
      "weighted avg       0.86      0.87      0.85       294\n",
      "\n"
     ]
    }
   ],
   "source": [
    "matrix = classification_report(y_test,prediction50)\n",
    "print('Classification report : \\n',matrix)"
   ]
  },
  {
   "cell_type": "code",
   "execution_count": 498,
   "id": "1d999651",
   "metadata": {},
   "outputs": [
    {
     "data": {
      "text/plain": [
       "<AxesSubplot:>"
      ]
     },
     "execution_count": 498,
     "metadata": {},
     "output_type": "execute_result"
    },
    {
     "data": {
      "image/png": "[encoded data removed]",
      "text/plain": [
       "<Figure size 1296x1152 with 2 Axes>"
      ]
     },
     "metadata": {
      "needs_background": "light"
     },
     "output_type": "display_data"
    }
   ],
   "source": [
    "import seaborn as sns\n",
    "sns.heatmap(confusion_matrix(y_test,prediction50), annot=True)"
   ]
  },
  {
   "cell_type": "code",
   "execution_count": 499,
   "id": "dbecba5a",
   "metadata": {},
   "outputs": [],
   "source": [
    "from sklearn.model_selection import cross_val_score"
   ]
  },
  {
   "cell_type": "code",
   "execution_count": 500,
   "id": "6840a4a5",
   "metadata": {},
   "outputs": [
    {
     "data": {
      "text/plain": [
       "array([0.67006803, 0.71768707, 0.68027211, 0.70748299, 0.7244898 ])"
      ]
     },
     "execution_count": 500,
     "metadata": {},
     "output_type": "execute_result"
    }
   ],
   "source": [
    "cross_val_score(GaussianNB(),X,df.Attrition)"
   ]
  },
  {
   "cell_type": "code",
   "execution_count": 501,
   "id": "3bb077b5",
   "metadata": {},
   "outputs": [
    {
     "data": {
      "text/plain": [
       "array([0.8537415 , 0.8537415 , 0.86734694, 0.85714286, 0.8537415 ])"
      ]
     },
     "execution_count": 501,
     "metadata": {},
     "output_type": "execute_result"
    }
   ],
   "source": [
    "from sklearn.ensemble import RandomForestClassifier\n",
    "cross_val_score(RandomForestClassifier(n_estimators=40),X,df.Attrition)"
   ]
  },
  {
   "cell_type": "code",
   "execution_count": 502,
   "id": "449a0bd1",
   "metadata": {},
   "outputs": [
    {
     "data": {
      "text/plain": [
       "array([0.86054422, 0.86394558, 0.87755102, 0.88095238, 0.88435374])"
      ]
     },
     "execution_count": 502,
     "metadata": {},
     "output_type": "execute_result"
    }
   ],
   "source": [
    "from sklearn.svm import SVC\n",
    "cross_val_score(SVC(),X,df.Attrition)"
   ]
  },
  {
   "cell_type": "code",
   "execution_count": 503,
   "id": "ee165423",
   "metadata": {},
   "outputs": [
    {
     "data": {
      "text/plain": [
       "array([0.8537415 , 0.85714286, 0.83673469, 0.85034014, 0.85714286])"
      ]
     },
     "execution_count": 503,
     "metadata": {},
     "output_type": "execute_result"
    }
   ],
   "source": [
    "from sklearn.neighbors import KNeighborsClassifier\n",
    "cross_val_score(KNeighborsClassifier(),X,df.Attrition)"
   ]
  },
  {
   "cell_type": "markdown",
   "id": "e717a793",
   "metadata": {},
   "source": [
    "# 4)Create ROC-AUC curve"
   ]
  },
  {
   "cell_type": "code",
   "execution_count": 504,
   "id": "e0883e2d",
   "metadata": {},
   "outputs": [],
   "source": [
    "from sklearn.linear_model import LogisticRegression\n",
    "LRClassifier=LogisticRegression(random_state=10)\n",
    "LRClassifier.fit(X_train,y_train)\n",
    "y_pred_logistic=LRClassifier.decision_function(X_test)"
   ]
  },
  {
   "cell_type": "code",
   "execution_count": 505,
   "id": "28f69902",
   "metadata": {},
   "outputs": [
    {
     "data": {
      "image/png": "[encoded data removed]",
      "text/plain": [
       "<Figure size 700x600 with 1 Axes>"
      ]
     },
     "metadata": {
      "needs_background": "light"
     },
     "output_type": "display_data"
    }
   ],
   "source": [
    "from sklearn.svm import SVC\n",
    "SVCClassifier=SVC(random_state=10)\n",
    "SVCClassifier.fit(X_train,y_train)\n",
    "y_pred_SVC=SVCClassifier.decision_function(X_test)\n",
    "#y_pred_logistic=LogisticRegression.decision_function(X_test)\n",
    "\n",
    "\n",
    "\n",
    "\n",
    "\n",
    "from sklearn.metrics import roc_curve , auc\n",
    "\n",
    "logistic_fpr,logistic_tpr,threshold=roc_curve(y_test,y_pred_GNB)\n",
    "auc_logistic=auc(logistic_fpr,logistic_tpr)\n",
    "\n",
    "\n",
    "svm_fpr,svm_tpr,threshold=roc_curve(y_test,y_pred_SVC)\n",
    "auc_SVC=auc(svm_fpr,svm_tpr)\n",
    "\n",
    "\n",
    "plt.figure(figsize=(7,6),dpi=100)\n",
    "plt.plot(svm_fpr,svm_tpr,linestyle=\"-\",label='SVM(auc=%0.3f)'% auc_SVC)\n",
    "plt.plot(logistic_fpr,logistic_tpr,marker=\"_\",label='Logisitic(auc=%0.3f)' % auc_logistic)\n",
    "\n",
    "plt.xlabel(\"False Positive Rate-->\")\n",
    "plt.ylabel(\"True Postive Rate-->\")\n",
    "plt.title('ROC-AUC curve')\n",
    "plt.legend()\n",
    "plt.show()"
   ]
  },
  {
   "cell_type": "markdown",
   "id": "0a91a5ba",
   "metadata": {},
   "source": [
    "# Goal 5]  SVM Algorithm"
   ]
  },
  {
   "cell_type": "markdown",
   "id": "eea0982b",
   "metadata": {},
   "source": [
    "# 1 )Create Model"
   ]
  },
  {
   "cell_type": "code",
   "execution_count": 506,
   "id": "60a15cb7",
   "metadata": {},
   "outputs": [],
   "source": [
    "import pandas as pd\n",
    "import numpy as np\n",
    "import seaborn as sns\n",
    "import matplotlib.pyplot as plt\n",
    "\n",
    "import warnings\n",
    "warnings.filterwarnings('ignore')"
   ]
  },
  {
   "cell_type": "code",
   "execution_count": 507,
   "id": "17379cb9",
   "metadata": {},
   "outputs": [],
   "source": [
    "df = pd.read_csv(\"PROJECT SUPERVISED.csv\")"
   ]
  },
  {
   "cell_type": "code",
   "execution_count": 508,
   "id": "52eea5b9",
   "metadata": {},
   "outputs": [],
   "source": [
    "X = df.drop(\"Attrition\",axis=1)"
   ]
  },
  {
   "cell_type": "code",
   "execution_count": 509,
   "id": "acc0a91f",
   "metadata": {},
   "outputs": [],
   "source": [
    "y = df[\"Attrition\"]"
   ]
  },
  {
   "cell_type": "code",
   "execution_count": 510,
   "id": "0e0de22c",
   "metadata": {},
   "outputs": [],
   "source": [
    "from sklearn.model_selection import train_test_split\n",
    "X_train,X_test,y_train,y_test = train_test_split(X,y,test_size=0.2,random_state=0)"
   ]
  },
  {
   "cell_type": "code",
   "execution_count": 511,
   "id": "16d2ca4a",
   "metadata": {},
   "outputs": [],
   "source": [
    "from sklearn.svm import SVC\n",
    "\n",
    "\n",
    "\n",
    "# Create Decision Tree classifier object\n",
    "model = SVC()\n",
    "# Train Decision Tree Classifier\n",
    "model = model.fit(X_train,y_train)\n",
    "#Predict the response for test dataset\n",
    "y_pred_svm = model.fit(X_train, y_train).predict(X_test)"
   ]
  },
  {
   "cell_type": "code",
   "execution_count": 512,
   "id": "c1df5581",
   "metadata": {},
   "outputs": [],
   "source": [
    "prediction27=model.predict(X_test)"
   ]
  },
  {
   "cell_type": "code",
   "execution_count": 513,
   "id": "07e75997",
   "metadata": {},
   "outputs": [
    {
     "name": "stdout",
     "output_type": "stream",
     "text": [
      "Accuracy is  0.8707482993197279\n"
     ]
    }
   ],
   "source": [
    "from sklearn.metrics import accuracy_score\n",
    "print(\"Accuracy is \",accuracy_score(y_test,prediction27))"
   ]
  },
  {
   "cell_type": "markdown",
   "id": "996c55cd",
   "metadata": {},
   "source": [
    "# 2 ) Apply bagging & boosting"
   ]
  },
  {
   "cell_type": "markdown",
   "id": "da83022e",
   "metadata": {},
   "source": [
    "# Goal6)Ensemble Techniques on model"
   ]
  },
  {
   "cell_type": "code",
   "execution_count": 514,
   "id": "61ae997d",
   "metadata": {},
   "outputs": [
    {
     "data": {
      "text/plain": [
       "0.8673469387755102"
      ]
     },
     "execution_count": 514,
     "metadata": {},
     "output_type": "execute_result"
    }
   ],
   "source": [
    "from sklearn.ensemble import BaggingClassifier\n",
    "\n",
    "model = BaggingClassifier(base_estimator=KNeighborsClassifier(),n_estimators = 100,\n",
    "                          max_samples=0.8,oob_score=True,random_state=0)\n",
    "model.fit(X_train, y_train)\n",
    "\n",
    "#accuracy score--->training set\n",
    "#model.oob_score_\n",
    "\n",
    "model.score(X_train,y_train)"
   ]
  },
  {
   "cell_type": "code",
   "execution_count": 515,
   "id": "1291b68c",
   "metadata": {},
   "outputs": [
    {
     "name": "stdout",
     "output_type": "stream",
     "text": [
      "The accuracy of the XGBClassifier is 0.8571428571428571\n"
     ]
    }
   ],
   "source": [
    "model=XGBClassifier()\n",
    "model.fit(X_train,y_train)\n",
    "prediction27=model.predict(X_test)\n",
    "print('The accuracy of the XGBClassifier is',metrics.accuracy_score(prediction27,y_test))"
   ]
  },
  {
   "cell_type": "code",
   "execution_count": 516,
   "id": "c346f4d6",
   "metadata": {},
   "outputs": [
    {
     "name": "stdout",
     "output_type": "stream",
     "text": [
      "Accuracy:85.71%\n"
     ]
    }
   ],
   "source": [
    "accuracy=accuracy_score(y_test,prediction27)\n",
    "print(\"Accuracy:%.2f%%\" %(accuracy *100.0))"
   ]
  },
  {
   "cell_type": "markdown",
   "id": "dd28b1c3",
   "metadata": {},
   "source": [
    "# 3)Do confusion matrix & cross validation"
   ]
  },
  {
   "cell_type": "code",
   "execution_count": 517,
   "id": "b726c674",
   "metadata": {},
   "outputs": [],
   "source": [
    "from sklearn.metrics import confusion_matrix\n",
    "from sklearn.metrics import classification_report\n"
   ]
  },
  {
   "cell_type": "code",
   "execution_count": 518,
   "id": "51c33bbe",
   "metadata": {},
   "outputs": [
    {
     "data": {
      "text/plain": [
       "array([[238,   7],\n",
       "       [ 35,  14]], dtype=int64)"
      ]
     },
     "execution_count": 518,
     "metadata": {},
     "output_type": "execute_result"
    }
   ],
   "source": [
    "confusion_matrix(y_test,prediction27)"
   ]
  },
  {
   "cell_type": "code",
   "execution_count": 519,
   "id": "e404009f",
   "metadata": {},
   "outputs": [
    {
     "data": {
      "text/plain": [
       "(243, 2, 42, 7)"
      ]
     },
     "execution_count": 519,
     "metadata": {},
     "output_type": "execute_result"
    }
   ],
   "source": [
    "tn, fp, fn, tp= confusion_matrix(y_test,prediction).ravel()\n",
    "(tn, fp, fn, tp)\n"
   ]
  },
  {
   "cell_type": "code",
   "execution_count": 520,
   "id": "aaab8659",
   "metadata": {},
   "outputs": [
    {
     "name": "stdout",
     "output_type": "stream",
     "text": [
      "Classification report : \n",
      "               precision    recall  f1-score   support\n",
      "\n",
      "           0       0.87      0.97      0.92       245\n",
      "           1       0.67      0.29      0.40        49\n",
      "\n",
      "    accuracy                           0.86       294\n",
      "   macro avg       0.77      0.63      0.66       294\n",
      "weighted avg       0.84      0.86      0.83       294\n",
      "\n"
     ]
    }
   ],
   "source": [
    "matrix = classification_report(y_test,prediction27)\n",
    "print('Classification report : \\n',matrix)"
   ]
  },
  {
   "cell_type": "code",
   "execution_count": 521,
   "id": "2a3a2621",
   "metadata": {},
   "outputs": [
    {
     "data": {
      "text/plain": [
       "<AxesSubplot:>"
      ]
     },
     "execution_count": 521,
     "metadata": {},
     "output_type": "execute_result"
    },
    {
     "data": {
      "image/png": "[encoded data removed]",
      "text/plain": [
       "<Figure size 1296x1152 with 2 Axes>"
      ]
     },
     "metadata": {
      "needs_background": "light"
     },
     "output_type": "display_data"
    }
   ],
   "source": [
    "import seaborn as sns\n",
    "sns.heatmap(confusion_matrix(y_test,prediction27), annot=True)"
   ]
  },
  {
   "cell_type": "code",
   "execution_count": 522,
   "id": "f1400e80",
   "metadata": {},
   "outputs": [],
   "source": [
    "from sklearn.model_selection import cross_val_score"
   ]
  },
  {
   "cell_type": "code",
   "execution_count": 523,
   "id": "bbf12e97",
   "metadata": {},
   "outputs": [
    {
     "data": {
      "text/plain": [
       "array([0.86054422, 0.86394558, 0.87755102, 0.88095238, 0.88435374])"
      ]
     },
     "execution_count": 523,
     "metadata": {},
     "output_type": "execute_result"
    }
   ],
   "source": [
    "cross_val_score(SVC(),X,df.Attrition)\n"
   ]
  },
  {
   "cell_type": "code",
   "execution_count": 524,
   "id": "beadf71c",
   "metadata": {},
   "outputs": [
    {
     "data": {
      "text/plain": [
       "array([0.85714286, 0.85034014, 0.85714286, 0.86394558, 0.86394558])"
      ]
     },
     "execution_count": 524,
     "metadata": {},
     "output_type": "execute_result"
    }
   ],
   "source": [
    "from sklearn.ensemble import RandomForestClassifier\n",
    "cross_val_score(RandomForestClassifier(n_estimators=40),X,df.Attrition)"
   ]
  },
  {
   "cell_type": "code",
   "execution_count": 525,
   "id": "ede1e05c",
   "metadata": {},
   "outputs": [
    {
     "data": {
      "text/plain": [
       "array([0.8537415 , 0.85714286, 0.83673469, 0.85034014, 0.85714286])"
      ]
     },
     "execution_count": 525,
     "metadata": {},
     "output_type": "execute_result"
    }
   ],
   "source": [
    "from sklearn.neighbors import KNeighborsClassifier\n",
    "cross_val_score(KNeighborsClassifier(),X,df.Attrition)"
   ]
  },
  {
   "cell_type": "markdown",
   "id": "12ef2399",
   "metadata": {},
   "source": [
    "# 4)Create ROC-AUC curve"
   ]
  },
  {
   "cell_type": "code",
   "execution_count": 526,
   "id": "d6a686e3",
   "metadata": {},
   "outputs": [],
   "source": [
    "from sklearn.linear_model import LogisticRegression\n",
    "LRClassifier=LogisticRegression(random_state=4)\n",
    "LRClassifier.fit(X_train,y_train)\n",
    "y_pred_logistic=LRClassifier.decision_function(X_test)"
   ]
  },
  {
   "cell_type": "code",
   "execution_count": 527,
   "id": "7fa0207b",
   "metadata": {},
   "outputs": [
    {
     "data": {
      "text/plain": [
       "<matplotlib.legend.Legend at 0x1e45676b160>"
      ]
     },
     "execution_count": 527,
     "metadata": {},
     "output_type": "execute_result"
    },
    {
     "data": {
      "image/png": "[encoded data removed]",
      "text/plain": [
       "<Figure size 700x600 with 1 Axes>"
      ]
     },
     "metadata": {
      "needs_background": "light"
     },
     "output_type": "display_data"
    }
   ],
   "source": [
    "from sklearn.svm import SVC\n",
    "SVCClassifier=SVC(random_state=4)\n",
    "SVCClassifier.fit(X_train,y_train)\n",
    "y_pred_SVC=SVCClassifier.decision_function(X_test)\n",
    "#y_pred_logistic=LogisticRegression.decision_function(X_test)\n",
    "\n",
    "\n",
    "\n",
    "\n",
    "\n",
    "from sklearn.metrics import roc_curve , auc\n",
    "\n",
    "logistic_fpr,logistic_tpr,threshold=roc_curve(y_test,y_pred_svm)\n",
    "auc_logistic=auc(logistic_fpr,logistic_tpr)\n",
    "\n",
    "\n",
    "svm_fpr,svm_tpr,threshold=roc_curve(y_test,y_pred_SVC)\n",
    "auc_SVC=auc(svm_fpr,svm_tpr)\n",
    "\n",
    "\n",
    "plt.figure(figsize=(7,6),dpi=100)\n",
    "plt.plot(svm_fpr,svm_tpr,linestyle=\"-\",label='SVM(auc=%0.3f)'% auc_SVC)\n",
    "plt.plot(logistic_fpr,logistic_tpr,marker=\"_\",label='Logisitic(auc=%0.3f)' % auc_logistic)\n",
    "\n",
    "plt.xlabel(\"False Positive Rate-->\")\n",
    "plt.ylabel(\"True Postive Rate-->\")\n",
    "plt.title('ROC-AUC curve')\n",
    "plt.legend()"
   ]
  },
  {
   "cell_type": "code",
   "execution_count": null,
   "id": "c2745830",
   "metadata": {},
   "outputs": [],
   "source": []
  }
 ],
 "metadata": {
  "kernelspec": {
   "display_name": "Python 3",
   "language": "python",
   "name": "python3"
  },
  "language_info": {
   "codemirror_mode": {
    "name": "ipython",
    "version": 3
   },
   "file_extension": ".py",
   "mimetype": "text/x-python",
   "name": "python",
   "nbconvert_exporter": "python",
   "pygments_lexer": "ipython3",
   "version": "3.8.8"
  }
 },
 "nbformat": 4,
 "nbformat_minor": 5
}
