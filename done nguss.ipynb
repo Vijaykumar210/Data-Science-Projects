{
 "cells": [
  {
   "cell_type": "code",
   "execution_count": 1,
   "id": "97f14c25",
   "metadata": {},
   "outputs": [
    {
     "name": "stdout",
     "output_type": "stream",
     "text": [
      "enter your name:5\n",
      "want to play number guessing game?yes\n",
      "great!lets start the game\n",
      "enter a  number5\n",
      "please guess a number within given range!\n",
      "your guess is lower\n",
      "enter a  number6\n",
      "please guess a number within given range!\n",
      "your guess is lower\n",
      "enter a  number7\n",
      "please guess a number within given range!\n",
      "your guess is lower\n",
      "enter a  number8\n",
      "your guess is lower\n",
      "enter a  number9\n",
      "please guess a number within given range!\n",
      "your guess is higher\n",
      "sorry! you used all your all attemps. game over \n"
     ]
    }
   ],
   "source": [
    "import random\n",
    "num = random.randint(1,10)\n",
    "chance = 0\n",
    "name=input(\"enter your name:\")\n",
    "game=input(\"want to play number guessing game?\")\n",
    "if game==\"yes\":\n",
    "    print(\"great!lets start the game\")\n",
    "    while chance < 5:\n",
    "        guess=int(input(\"enter a  number\"))\n",
    "        chance +=1\n",
    "        if guess != num:\n",
    "            print(\"please guess a number within given range!\")\n",
    "        if guess <= num:\n",
    "            print(\"your guess is lower\")\n",
    "        elif guess >= num:\n",
    "            print(\"your guess is higher\")\n",
    "        elif guess == num:\n",
    "            print(\"your guess is correct!\")\n",
    "            print(\"it took attempts:\",chance)\n",
    "            break\n",
    "    \n",
    "if chance == 5:\n",
    "    print(\"sorry! you used all your all attemps. game over \")\n",
    "elif game == \"no\":\n",
    "    print(\"thats cool have a good one!\")"
   ]
  },
  {
   "cell_type": "code",
   "execution_count": null,
   "id": "2581324d",
   "metadata": {},
   "outputs": [
    {
     "name": "stdout",
     "output_type": "stream",
     "text": [
      "whats your nice name:y\n",
      "player_name\n",
      "want to play number gussing game?yes\n",
      "awesome!\n",
      "do you know the game rules?yes\n",
      "good then check game rules from google\n"
     ]
    }
   ],
   "source": [
    "import random\n",
    "choice = [\"rock\",\"paper\",\"scissor\"]\n",
    "comp = random.choice(choice)\n",
    "player = False\n",
    "chance = 0\n",
    "comp_score = 0\n",
    "player_score = 0\n",
    "player_name=input(\"whats your nice name:\")\n",
    "print(\"player_name\")\n",
    "q=input(\"want to play number gussing game?\")\n",
    "if q==\"yes\":\n",
    "    print(\"awesome!\")\n",
    "    rules=input(\"do you know the game rules?\")\n",
    "    if rules==\"yes\":\n",
    "        print(\"good then check game rules from google\")\n",
    "    else:\n",
    "        print(\"great! you will get 5 rounds to beat the robot.lets start the game\")\n",
    "while chance < 5 :\n",
    "    player = input(\"rock,paper or scissor?\")\n",
    "    chance+=1\n",
    "    if player == comp:\n",
    "        print(\"tie!\")\n",
    "    elif player == \"rock\":\n",
    "        \n",
    "        if comp == \"paper\":\n",
    "            print(\"you loss!\",comp,comp_score)\n",
    "            comp_score+=1\n",
    "        else:\n",
    "            print(\"you win!\",player_name,player_score)\n",
    "            player_score+=1\n",
    "            \n",
    "    elif player == \"paper\":\n",
    "        \n",
    "        if comp == \"scissor\":\n",
    "            print(\"you lose!\",comp,comp_score)\n",
    "            comp_score+=1\n",
    "        else:\n",
    "            print(\"you win!\",player_name,player_score)\n",
    "            player_score+=1\n",
    "    elif player == \"scissor\":\n",
    "        \n",
    "        if comp == \"rock\":\n",
    "            print(\"you lose!\",comp,comp_score)\n",
    "            comp_score+=1\n",
    "        else:\n",
    "            print(\"you win!\",player_name,player_score)\n",
    "            player_score+=1\n",
    "            break\n",
    "if chance == 5:\n",
    "    print(\"game over!\")"
   ]
  },
  {
   "cell_type": "code",
   "execution_count": null,
   "id": "89ac5b58",
   "metadata": {},
   "outputs": [],
   "source": []
  }
 ],
 "metadata": {
  "kernelspec": {
   "display_name": "Python 3",
   "language": "python",
   "name": "python3"
  },
  "language_info": {
   "codemirror_mode": {
    "name": "ipython",
    "version": 3
   },
   "file_extension": ".py",
   "mimetype": "text/x-python",
   "name": "python",
   "nbconvert_exporter": "python",
   "pygments_lexer": "ipython3",
   "version": "3.8.8"
  }
 },
 "nbformat": 4,
 "nbformat_minor": 5
}
